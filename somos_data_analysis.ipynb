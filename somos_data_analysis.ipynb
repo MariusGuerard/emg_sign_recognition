{
 "cells": [
  {
   "cell_type": "markdown",
   "metadata": {},
   "source": [
    "To do \n",
    "- Eventually optimize to get another DNN architecture?\n",
    "- Integrate covariance computation into pipeline (instead of pre-processing)\n",
    "- visualize covariance matrix\n",
    "- visualize the scatter plots of the n(n+1)/2 covar points for eqch signs.\n",
    "- Try SVM (like barachant)\n",
    "- Try Nina's metrics"
   ]
  },
  {
   "cell_type": "markdown",
   "metadata": {},
   "source": [
    "# 0. Interactive Cloud Version \n",
    "(Select GPU/TPU for faster training of the Tensorflow models).\n",
    "\n",
    "https://colab.research.google.com/github/MariusGuerard/emg_sign_recognition/blob/master/somos_data_analysis.ipynb"
   ]
  },
  {
   "cell_type": "code",
   "execution_count": 1,
   "metadata": {},
   "outputs": [],
   "source": [
    "import time\n",
    "a = time.time()"
   ]
  },
  {
   "cell_type": "code",
   "execution_count": 2,
   "metadata": {},
   "outputs": [],
   "source": [
    "# Set to true to run in colab\n",
    "RUN_IN_COLAB = False"
   ]
  },
  {
   "cell_type": "code",
   "execution_count": 3,
   "metadata": {},
   "outputs": [],
   "source": [
    "if RUN_IN_COLAB:\n",
    "    ### Installing non-colab library.\n",
    "    !pip install pyriemann\n",
    "    \n",
    "    ### Downloading custom libraries (not available with pip)\n",
    "    !wget https://raw.githubusercontent.com/MariusGuerard/emg_sign_recognition/master/helper_function.py \\\n",
    "        -O /tmp/helper_function.py\n",
    "    !wget https://raw.githubusercontent.com/MariusGuerard/emg_sign_recognition/master/viz.py \\\n",
    "        -O /tmp/viz.py\n",
    "\n",
    "    ### Add the tmp directory to the path to be able to import the custom libraries.\n",
    "    import sys\n",
    "    sys.path.append('/tmp/')\n",
    "\n",
    "    ### Downloading and extracting the data\n",
    "    !wget https://github.com/MariusGuerard/emg_sign_recognition/blob/master/data/data_somos.zip?raw=true\\\n",
    "        -O /tmp/data_somos.zip\n",
    "    !unzip -o /tmp/data_somos.zip -d /tmp/data_somos/\n",
    "    # Directory of the data\n",
    "    data_dir = '/tmp/data_somos/JAN20/'\n",
    "    \n",
    "else:\n",
    "    data_dir = 'data/data_somos/JAN20/'"
   ]
  },
  {
   "cell_type": "markdown",
   "metadata": {},
   "source": [
    "# Start of the notebook if ran in local"
   ]
  },
  {
   "cell_type": "code",
   "execution_count": 4,
   "metadata": {},
   "outputs": [
    {
     "name": "stderr",
     "output_type": "stream",
     "text": [
      "Using TensorFlow backend.\n"
     ]
    }
   ],
   "source": [
    "import os, pickle\n",
    "os.environ['KMP_DUPLICATE_LIB_OK']='True'\n",
    "from os.path import join\n",
    "from glob import glob\n",
    "import time\n",
    "\n",
    "import numpy as np\n",
    "import matplotlib.pyplot as plt\n",
    "import matplotlib\n",
    "matplotlib.rcParams['figure.figsize'] = (20.0, 10.0)\n",
    "import seaborn as sns\n",
    "import pandas as pd\n",
    "from sklearn.model_selection import cross_val_score, train_test_split\n",
    "from sklearn.model_selection import cross_val_score, train_test_split, cross_validate, StratifiedKFold\n",
    "from sklearn.linear_model import LogisticRegression\n",
    "from sklearn.pipeline import Pipeline\n",
    "from keras.wrappers.scikit_learn import KerasClassifier\n",
    "from sklearn.preprocessing import StandardScaler\n",
    "import tensorflow as tf\n",
    "#from tensorflow.keras import Sequential\n",
    "tf.__version__\n",
    "\n",
    "import pyriemann\n",
    "from pyriemann.tangentspace import TangentSpace\n",
    "\n",
    "import helper_function as hf\n",
    "import viz"
   ]
  },
  {
   "cell_type": "code",
   "execution_count": 5,
   "metadata": {},
   "outputs": [],
   "source": [
    "### Number of splits in the K_Fold (for intra-session only)\n",
    "N_SPLIT = 3\n",
    "\n",
    "### Number of hardware acquisitions to consider as a trial.\n",
    "# The higher the number of steps, the longer the decision time but the better the accuracy.\n",
    "# With current hardware, the sampling time is 4ms (=250Hz) for all 8 electrodes, so N_STEPS of 100 correspond to trial time (decision time) of 400ms\n",
    "N_STEPS = 100\n",
    "\n",
    "### Set to True to load processed data previously saved. \n",
    "# Set to False to re-process data with different parameters.\n",
    "LOAD_DATA = True\n",
    "\n",
    "### Set to True if you want to use to train the DNN models (which takes way more time than the other algorithms).\n",
    "TRAIN_DNN = True"
   ]
  },
  {
   "cell_type": "markdown",
   "metadata": {},
   "source": [
    "# 1. Preliminary comments"
   ]
  },
  {
   "cell_type": "code",
   "execution_count": 6,
   "metadata": {},
   "outputs": [],
   "source": [
    "# Labels that correspond to the order (0 = Nothing, 1 = Rock, ...)\n",
    "label_dic = {'Nothing': 0, 'Rock': 1, 'Paper': 2, 'Scissors': 3, 'Ok': 4}"
   ]
  },
  {
   "cell_type": "markdown",
   "metadata": {},
   "source": [
    "# 2. Loading the Data."
   ]
  },
  {
   "cell_type": "code",
   "execution_count": 7,
   "metadata": {},
   "outputs": [],
   "source": [
    "### Functions to read the data in pandas DataFrame with the filenames as values of column 'exp'.\n",
    "read_somos_csv = lambda path: pd.read_csv(path, sep=',', names = ['time', 'c0', 'c1', 'c2', 'c3', 'c4', 'c5', 'c6', 'c7', 'label'], skiprows=1)\n",
    "\n",
    "def combine_pd(pattern, data_dir=data_dir):\n",
    "    df = pd.concat([read_somos_csv(x) for x in glob(data_dir + pattern + 'txt')])\n",
    "    df['exp'] = [pattern] * len(df)\n",
    "    return df"
   ]
  },
  {
   "cell_type": "code",
   "execution_count": 8,
   "metadata": {},
   "outputs": [],
   "source": [
    "patterns = ['mg*s1*', 'mg*s2*', 'rr*s1*', 'rr*s2*']"
   ]
  },
  {
   "cell_type": "code",
   "execution_count": 9,
   "metadata": {},
   "outputs": [],
   "source": [
    "data_df = pd.concat([combine_pd(pattern) for pattern in patterns])"
   ]
  },
  {
   "cell_type": "code",
   "execution_count": 10,
   "metadata": {},
   "outputs": [
    {
     "data": {
      "text/html": [
       "<div>\n",
       "<style scoped>\n",
       "    .dataframe tbody tr th:only-of-type {\n",
       "        vertical-align: middle;\n",
       "    }\n",
       "\n",
       "    .dataframe tbody tr th {\n",
       "        vertical-align: top;\n",
       "    }\n",
       "\n",
       "    .dataframe thead th {\n",
       "        text-align: right;\n",
       "    }\n",
       "</style>\n",
       "<table border=\"1\" class=\"dataframe\">\n",
       "  <thead>\n",
       "    <tr style=\"text-align: right;\">\n",
       "      <th></th>\n",
       "      <th>time</th>\n",
       "      <th>c0</th>\n",
       "      <th>c1</th>\n",
       "      <th>c2</th>\n",
       "      <th>c3</th>\n",
       "      <th>c4</th>\n",
       "      <th>c5</th>\n",
       "      <th>c6</th>\n",
       "      <th>c7</th>\n",
       "      <th>label</th>\n",
       "      <th>exp</th>\n",
       "    </tr>\n",
       "  </thead>\n",
       "  <tbody>\n",
       "    <tr>\n",
       "      <th>28796</th>\n",
       "      <td>117797</td>\n",
       "      <td>129</td>\n",
       "      <td>127</td>\n",
       "      <td>127</td>\n",
       "      <td>130</td>\n",
       "      <td>129</td>\n",
       "      <td>129</td>\n",
       "      <td>123</td>\n",
       "      <td>126</td>\n",
       "      <td>4</td>\n",
       "      <td>rr*s2*</td>\n",
       "    </tr>\n",
       "    <tr>\n",
       "      <th>27714</th>\n",
       "      <td>113519</td>\n",
       "      <td>124</td>\n",
       "      <td>125</td>\n",
       "      <td>121</td>\n",
       "      <td>127</td>\n",
       "      <td>127</td>\n",
       "      <td>126</td>\n",
       "      <td>129</td>\n",
       "      <td>130</td>\n",
       "      <td>4</td>\n",
       "      <td>mg*s2*</td>\n",
       "    </tr>\n",
       "    <tr>\n",
       "      <th>371</th>\n",
       "      <td>1393</td>\n",
       "      <td>131</td>\n",
       "      <td>127</td>\n",
       "      <td>129</td>\n",
       "      <td>127</td>\n",
       "      <td>119</td>\n",
       "      <td>128</td>\n",
       "      <td>126</td>\n",
       "      <td>126</td>\n",
       "      <td>0</td>\n",
       "      <td>mg*s1*</td>\n",
       "    </tr>\n",
       "    <tr>\n",
       "      <th>8794</th>\n",
       "      <td>36384</td>\n",
       "      <td>126</td>\n",
       "      <td>127</td>\n",
       "      <td>128</td>\n",
       "      <td>126</td>\n",
       "      <td>129</td>\n",
       "      <td>128</td>\n",
       "      <td>128</td>\n",
       "      <td>120</td>\n",
       "      <td>1</td>\n",
       "      <td>mg*s2*</td>\n",
       "    </tr>\n",
       "    <tr>\n",
       "      <th>6309</th>\n",
       "      <td>25976</td>\n",
       "      <td>127</td>\n",
       "      <td>128</td>\n",
       "      <td>129</td>\n",
       "      <td>128</td>\n",
       "      <td>127</td>\n",
       "      <td>127</td>\n",
       "      <td>130</td>\n",
       "      <td>126</td>\n",
       "      <td>1</td>\n",
       "      <td>rr*s1*</td>\n",
       "    </tr>\n",
       "    <tr>\n",
       "      <th>26383</th>\n",
       "      <td>108078</td>\n",
       "      <td>128</td>\n",
       "      <td>130</td>\n",
       "      <td>124</td>\n",
       "      <td>125</td>\n",
       "      <td>126</td>\n",
       "      <td>127</td>\n",
       "      <td>129</td>\n",
       "      <td>128</td>\n",
       "      <td>4</td>\n",
       "      <td>mg*s1*</td>\n",
       "    </tr>\n",
       "    <tr>\n",
       "      <th>19364</th>\n",
       "      <td>79373</td>\n",
       "      <td>127</td>\n",
       "      <td>128</td>\n",
       "      <td>127</td>\n",
       "      <td>125</td>\n",
       "      <td>131</td>\n",
       "      <td>130</td>\n",
       "      <td>128</td>\n",
       "      <td>129</td>\n",
       "      <td>3</td>\n",
       "      <td>rr*s1*</td>\n",
       "    </tr>\n",
       "    <tr>\n",
       "      <th>24584</th>\n",
       "      <td>100728</td>\n",
       "      <td>124</td>\n",
       "      <td>121</td>\n",
       "      <td>136</td>\n",
       "      <td>126</td>\n",
       "      <td>123</td>\n",
       "      <td>128</td>\n",
       "      <td>129</td>\n",
       "      <td>129</td>\n",
       "      <td>4</td>\n",
       "      <td>mg*s2*</td>\n",
       "    </tr>\n",
       "    <tr>\n",
       "      <th>19592</th>\n",
       "      <td>80565</td>\n",
       "      <td>128</td>\n",
       "      <td>122</td>\n",
       "      <td>130</td>\n",
       "      <td>124</td>\n",
       "      <td>129</td>\n",
       "      <td>125</td>\n",
       "      <td>123</td>\n",
       "      <td>125</td>\n",
       "      <td>3</td>\n",
       "      <td>mg*s1*</td>\n",
       "    </tr>\n",
       "    <tr>\n",
       "      <th>6156</th>\n",
       "      <td>25341</td>\n",
       "      <td>131</td>\n",
       "      <td>127</td>\n",
       "      <td>130</td>\n",
       "      <td>130</td>\n",
       "      <td>127</td>\n",
       "      <td>128</td>\n",
       "      <td>124</td>\n",
       "      <td>125</td>\n",
       "      <td>1</td>\n",
       "      <td>rr*s2*</td>\n",
       "    </tr>\n",
       "  </tbody>\n",
       "</table>\n",
       "</div>"
      ],
      "text/plain": [
       "         time   c0   c1   c2   c3   c4   c5   c6   c7  label     exp\n",
       "28796  117797  129  127  127  130  129  129  123  126      4  rr*s2*\n",
       "27714  113519  124  125  121  127  127  126  129  130      4  mg*s2*\n",
       "371      1393  131  127  129  127  119  128  126  126      0  mg*s1*\n",
       "8794    36384  126  127  128  126  129  128  128  120      1  mg*s2*\n",
       "6309    25976  127  128  129  128  127  127  130  126      1  rr*s1*\n",
       "26383  108078  128  130  124  125  126  127  129  128      4  mg*s1*\n",
       "19364   79373  127  128  127  125  131  130  128  129      3  rr*s1*\n",
       "24584  100728  124  121  136  126  123  128  129  129      4  mg*s2*\n",
       "19592   80565  128  122  130  124  129  125  123  125      3  mg*s1*\n",
       "6156    25341  131  127  130  130  127  128  124  125      1  rr*s2*"
      ]
     },
     "execution_count": 10,
     "metadata": {},
     "output_type": "execute_result"
    }
   ],
   "source": [
    "data_df.sample(10)"
   ]
  },
  {
   "cell_type": "code",
   "execution_count": 11,
   "metadata": {},
   "outputs": [
    {
     "data": {
      "text/html": [
       "<div>\n",
       "<style scoped>\n",
       "    .dataframe tbody tr th:only-of-type {\n",
       "        vertical-align: middle;\n",
       "    }\n",
       "\n",
       "    .dataframe tbody tr th {\n",
       "        vertical-align: top;\n",
       "    }\n",
       "\n",
       "    .dataframe thead th {\n",
       "        text-align: right;\n",
       "    }\n",
       "</style>\n",
       "<table border=\"1\" class=\"dataframe\">\n",
       "  <thead>\n",
       "    <tr style=\"text-align: right;\">\n",
       "      <th></th>\n",
       "      <th>time</th>\n",
       "      <th>c0</th>\n",
       "      <th>c1</th>\n",
       "      <th>c2</th>\n",
       "      <th>c3</th>\n",
       "      <th>c4</th>\n",
       "      <th>c5</th>\n",
       "      <th>c6</th>\n",
       "      <th>c7</th>\n",
       "      <th>label</th>\n",
       "    </tr>\n",
       "  </thead>\n",
       "  <tbody>\n",
       "    <tr>\n",
       "      <th>count</th>\n",
       "      <td>731682.000000</td>\n",
       "      <td>731682.000000</td>\n",
       "      <td>731682.000000</td>\n",
       "      <td>731682.000000</td>\n",
       "      <td>731682.000000</td>\n",
       "      <td>731682.000000</td>\n",
       "      <td>731682.000000</td>\n",
       "      <td>731682.000000</td>\n",
       "      <td>731682.000000</td>\n",
       "      <td>731682.000000</td>\n",
       "    </tr>\n",
       "    <tr>\n",
       "      <th>mean</th>\n",
       "      <td>62558.191848</td>\n",
       "      <td>127.505144</td>\n",
       "      <td>127.507004</td>\n",
       "      <td>127.506409</td>\n",
       "      <td>127.504250</td>\n",
       "      <td>127.505813</td>\n",
       "      <td>127.506537</td>\n",
       "      <td>127.505465</td>\n",
       "      <td>127.503991</td>\n",
       "      <td>2.001328</td>\n",
       "    </tr>\n",
       "    <tr>\n",
       "      <th>std</th>\n",
       "      <td>36043.299100</td>\n",
       "      <td>3.565628</td>\n",
       "      <td>4.235870</td>\n",
       "      <td>3.714308</td>\n",
       "      <td>2.794727</td>\n",
       "      <td>2.724745</td>\n",
       "      <td>2.384146</td>\n",
       "      <td>2.779323</td>\n",
       "      <td>2.851516</td>\n",
       "      <td>1.413178</td>\n",
       "    </tr>\n",
       "    <tr>\n",
       "      <th>min</th>\n",
       "      <td>4.000000</td>\n",
       "      <td>61.000000</td>\n",
       "      <td>48.000000</td>\n",
       "      <td>27.000000</td>\n",
       "      <td>53.000000</td>\n",
       "      <td>82.000000</td>\n",
       "      <td>54.000000</td>\n",
       "      <td>54.000000</td>\n",
       "      <td>44.000000</td>\n",
       "      <td>0.000000</td>\n",
       "    </tr>\n",
       "    <tr>\n",
       "      <th>25%</th>\n",
       "      <td>31345.000000</td>\n",
       "      <td>126.000000</td>\n",
       "      <td>126.000000</td>\n",
       "      <td>126.000000</td>\n",
       "      <td>126.000000</td>\n",
       "      <td>126.000000</td>\n",
       "      <td>126.000000</td>\n",
       "      <td>126.000000</td>\n",
       "      <td>126.000000</td>\n",
       "      <td>1.000000</td>\n",
       "    </tr>\n",
       "    <tr>\n",
       "      <th>50%</th>\n",
       "      <td>62552.000000</td>\n",
       "      <td>128.000000</td>\n",
       "      <td>128.000000</td>\n",
       "      <td>127.000000</td>\n",
       "      <td>127.000000</td>\n",
       "      <td>128.000000</td>\n",
       "      <td>128.000000</td>\n",
       "      <td>128.000000</td>\n",
       "      <td>128.000000</td>\n",
       "      <td>2.000000</td>\n",
       "    </tr>\n",
       "    <tr>\n",
       "      <th>75%</th>\n",
       "      <td>93800.750000</td>\n",
       "      <td>129.000000</td>\n",
       "      <td>129.000000</td>\n",
       "      <td>129.000000</td>\n",
       "      <td>129.000000</td>\n",
       "      <td>129.000000</td>\n",
       "      <td>129.000000</td>\n",
       "      <td>129.000000</td>\n",
       "      <td>129.000000</td>\n",
       "      <td>3.000000</td>\n",
       "    </tr>\n",
       "    <tr>\n",
       "      <th>max</th>\n",
       "      <td>125014.000000</td>\n",
       "      <td>190.000000</td>\n",
       "      <td>245.000000</td>\n",
       "      <td>193.000000</td>\n",
       "      <td>194.000000</td>\n",
       "      <td>217.000000</td>\n",
       "      <td>210.000000</td>\n",
       "      <td>191.000000</td>\n",
       "      <td>249.000000</td>\n",
       "      <td>4.000000</td>\n",
       "    </tr>\n",
       "  </tbody>\n",
       "</table>\n",
       "</div>"
      ],
      "text/plain": [
       "                time             c0             c1             c2  \\\n",
       "count  731682.000000  731682.000000  731682.000000  731682.000000   \n",
       "mean    62558.191848     127.505144     127.507004     127.506409   \n",
       "std     36043.299100       3.565628       4.235870       3.714308   \n",
       "min         4.000000      61.000000      48.000000      27.000000   \n",
       "25%     31345.000000     126.000000     126.000000     126.000000   \n",
       "50%     62552.000000     128.000000     128.000000     127.000000   \n",
       "75%     93800.750000     129.000000     129.000000     129.000000   \n",
       "max    125014.000000     190.000000     245.000000     193.000000   \n",
       "\n",
       "                  c3             c4             c5             c6  \\\n",
       "count  731682.000000  731682.000000  731682.000000  731682.000000   \n",
       "mean      127.504250     127.505813     127.506537     127.505465   \n",
       "std         2.794727       2.724745       2.384146       2.779323   \n",
       "min        53.000000      82.000000      54.000000      54.000000   \n",
       "25%       126.000000     126.000000     126.000000     126.000000   \n",
       "50%       127.000000     128.000000     128.000000     128.000000   \n",
       "75%       129.000000     129.000000     129.000000     129.000000   \n",
       "max       194.000000     217.000000     210.000000     191.000000   \n",
       "\n",
       "                  c7          label  \n",
       "count  731682.000000  731682.000000  \n",
       "mean      127.503991       2.001328  \n",
       "std         2.851516       1.413178  \n",
       "min        44.000000       0.000000  \n",
       "25%       126.000000       1.000000  \n",
       "50%       128.000000       2.000000  \n",
       "75%       129.000000       3.000000  \n",
       "max       249.000000       4.000000  "
      ]
     },
     "execution_count": 11,
     "metadata": {},
     "output_type": "execute_result"
    }
   ],
   "source": [
    "data_df.describe()"
   ]
  },
  {
   "cell_type": "markdown",
   "metadata": {},
   "source": [
    "# 3. Pre-processing of the data"
   ]
  },
  {
   "cell_type": "markdown",
   "metadata": {},
   "source": [
    "## 3.0 Giving same labels sign map as in Kaggle"
   ]
  },
  {
   "cell_type": "code",
   "execution_count": 12,
   "metadata": {},
   "outputs": [],
   "source": [
    "labels = data_df.label.values"
   ]
  },
  {
   "cell_type": "code",
   "execution_count": 13,
   "metadata": {},
   "outputs": [],
   "source": [
    "# Changing the resting state 0 into -1\n",
    "tmp = np.where(labels==0, -1, labels)\n",
    "# Changing the Rock 1 in Rock 0\n",
    "tmp = np.where(tmp==1, 0, tmp)\n",
    "# Changing the Scissor 3 in Scissors 1\n",
    "tmp = np.where(tmp==3, 1, tmp)\n",
    "# Changing the Ok 4 in OK 3\n",
    "labels = np.where(tmp==4, 3, tmp)"
   ]
  },
  {
   "cell_type": "code",
   "execution_count": 14,
   "metadata": {},
   "outputs": [],
   "source": [
    "data_df.label = labels"
   ]
  },
  {
   "cell_type": "markdown",
   "metadata": {},
   "source": [
    "For now let's remove the 'rest' sign (to have a better comparison with the MYO), but we can look at it later."
   ]
  },
  {
   "cell_type": "code",
   "execution_count": 15,
   "metadata": {},
   "outputs": [],
   "source": [
    "data_df = data_df[data_df.label != -1]"
   ]
  },
  {
   "cell_type": "markdown",
   "metadata": {},
   "source": [
    "## 3.1 Batching\n",
    "\n",
    "The data are being batched by time windows of size 'N_STEPS': (t0_sensor0, ..., t0_sensor8, t1_sensor0, ..., t1_sensor8, ..., tN_STEPS_sensor0, tN_STEPS_sensor8)."
   ]
  },
  {
   "cell_type": "code",
   "execution_count": 16,
   "metadata": {},
   "outputs": [],
   "source": [
    "### Tagging the start and end of the signs (that allows to not take time window that contains multiple label)\n",
    "start_sign = np.where(np.diff(data_df.label) != 0)[0]\n",
    "# We had a margin at the start and the end of the signs to get the stationary signal coresponding to these signs.\n",
    "end_sign = np.append(start_sign[1:], len(data_df)) - 1000\n",
    "start_sign += 1000"
   ]
  },
  {
   "cell_type": "markdown",
   "metadata": {},
   "source": [
    "We have 24 files with 5 signs each (including rest) so we should have 5 * 24 - 1 = 119 changes of sign, or 4 * 24 - 1 = 95 (in case with no rest)"
   ]
  },
  {
   "cell_type": "code",
   "execution_count": 17,
   "metadata": {},
   "outputs": [
    {
     "data": {
      "text/plain": [
       "95"
      ]
     },
     "execution_count": 17,
     "metadata": {},
     "output_type": "execute_result"
    }
   ],
   "source": [
    "len(start_sign)"
   ]
  },
  {
   "cell_type": "markdown",
   "metadata": {},
   "source": [
    "This step can take a bit of time (~10-60s depending on your computer and your batching parameters)"
   ]
  },
  {
   "cell_type": "code",
   "execution_count": 18,
   "metadata": {},
   "outputs": [],
   "source": [
    "emg_list = []\n",
    "label_list = []\n",
    "exp_list = []\n",
    "for j in range(len(start_sign)):\n",
    "    batchs = range(start_sign[j], end_sign[j] - N_STEPS, N_STEPS)\n",
    "    #print(batchs)\n",
    "    emg_list.append([data_df.iloc[i: i+N_STEPS, 1: -2].values.flatten() for i in batchs])\n",
    "    # Similarly to the kaggle data let's create samples of 10 time steps of 8 channel: t0_sensor0, t0_sensor1, ..., t10_sensor0, ..., t10_sensor8.\n",
    "    label_list.append([data_df.iloc[i, -2] for i in batchs])\n",
    "    # Similarly to the kaggle data let's create samples of 10 time steps of 8 channel: t0_sensor0, t0_sensor1, ..., t10_sensor0, ..., t10_sensor8.\n",
    "    exp_list.append([data_df.iloc[i, -1] for i in batchs])\n",
    "emg = np.concatenate(emg_list)\n",
    "labels = np.hstack(label_list)\n",
    "exps = np.hstack(exp_list)"
   ]
  },
  {
   "cell_type": "markdown",
   "metadata": {},
   "source": [
    "Our EMG matrix should now have the shape (~len(raw)/N_STEPS, N_ELEC * N_STEPS) "
   ]
  },
  {
   "cell_type": "code",
   "execution_count": 19,
   "metadata": {},
   "outputs": [
    {
     "data": {
      "text/plain": [
       "(3856, 800)"
      ]
     },
     "execution_count": 19,
     "metadata": {},
     "output_type": "execute_result"
    }
   ],
   "source": [
    "emg.shape"
   ]
  },
  {
   "cell_type": "markdown",
   "metadata": {},
   "source": [
    "### 3.2 Separation in 4 datasets (2 sessions for 2 users)"
   ]
  },
  {
   "cell_type": "code",
   "execution_count": 20,
   "metadata": {},
   "outputs": [],
   "source": [
    "# Save the data pre-processed in a pickle to go faster at next execution \n",
    "# (You need to set LOAD_DATA to False if some parameters relative to this data needs to be modified).\n",
    "if 'data_batched.pickle' in os.listdir() and LOAD_DATA:\n",
    "    with open('data_batched.pickle', 'rb') as handle:\n",
    "        data_per_exp = pickle.load(handle)\n",
    "else:\n",
    "    data_per_exp = {}\n",
    "    for exp_name in patterns:\n",
    "        idx_exp = np.where(exps==exp_name)[0]\n",
    "        data_per_exp[exp_name] = {'raw': np.float_(emg[idx_exp]), 'labels': labels[idx_exp]}\n",
    "        print(len(emg[idx_exp]))\n",
    "    with open('data_batched.pickle', 'wb') as handle:\n",
    "        pickle.dump(data_per_exp, handle)"
   ]
  },
  {
   "cell_type": "markdown",
   "metadata": {},
   "source": [
    "# 4. Model on each dataset separately"
   ]
  },
  {
   "cell_type": "markdown",
   "metadata": {},
   "source": [
    "In this section, we are just using each dataset separately to both fit and evaluate different models. That gives an idea of the best-case scenario (when the user tries the wrist band just after having calibrating it)"
   ]
  },
  {
   "cell_type": "code",
   "execution_count": 21,
   "metadata": {},
   "outputs": [],
   "source": [
    "# Dictionary containing all accuracy and models for the intra-session experiment.\n",
    "result_intra = {}"
   ]
  },
  {
   "cell_type": "code",
   "execution_count": 22,
   "metadata": {},
   "outputs": [],
   "source": [
    "# For the intra-session experiment, we split the dataset into N_SPLIT stratified Kfold for better test accuracy estimation.\n",
    "k_fold = StratifiedKFold(n_splits=N_SPLIT, shuffle=True, random_state=7)"
   ]
  },
  {
   "cell_type": "code",
   "execution_count": 23,
   "metadata": {},
   "outputs": [
    {
     "data": {
      "image/png": "[encoded data removed]",
      "text/plain": [
       "<Figure size 432x288 with 1 Axes>"
      ]
     },
     "metadata": {
      "needs_background": "light"
     },
     "output_type": "display_data"
    },
    {
     "data": {
      "image/png": "[encoded data removed]",
      "text/plain": [
       "<Figure size 432x288 with 1 Axes>"
      ]
     },
     "metadata": {
      "needs_background": "light"
     },
     "output_type": "display_data"
    },
    {
     "data": {
      "image/png": "[encoded data removed]",
      "text/plain": [
       "<Figure size 432x288 with 1 Axes>"
      ]
     },
     "metadata": {
      "needs_background": "light"
     },
     "output_type": "display_data"
    }
   ],
   "source": [
    "### Let's plot the distribution of the labels for the train set and the validation test of each Fold of one experiment.\n",
    "X = data_per_exp['mg*s1*']['raw']\n",
    "y = data_per_exp['mg*s1*']['labels']\n",
    "for train_indices, test_indices in k_fold.split(X, y):\n",
    "    plt.figure()\n",
    "    sns.distplot(y[train_indices])\n",
    "    sns.distplot(y[test_indices])"
   ]
  },
  {
   "cell_type": "markdown",
   "metadata": {},
   "source": [
    "The plots above confirm that the 4 signs are equally represented in our 3 splits (as we used a stratified KFold)."
   ]
  },
  {
   "cell_type": "markdown",
   "metadata": {},
   "source": [
    "## 4.1 Using the Row Data"
   ]
  },
  {
   "cell_type": "markdown",
   "metadata": {},
   "source": [
    "This is if we were to use the models directly on the N_channels x N_time_steps features of a sample. Here it is very important to scale the data, as the signal sent from the FPGA has a very big biais relatively to the signal energy, and as the biais can be different for each electrodes."
   ]
  },
  {
   "cell_type": "markdown",
   "metadata": {},
   "source": [
    "### 4.1.0 Naive Model"
   ]
  },
  {
   "cell_type": "markdown",
   "metadata": {},
   "source": [
    "This random model is used to see what accuracy we would get by guessing randomly what sample corresponds to what sign. In average, we should have 25% accuracy if we have 4 signs and 20% accuracy if we have 5 signs."
   ]
  },
  {
   "cell_type": "code",
   "execution_count": 24,
   "metadata": {},
   "outputs": [],
   "source": [
    "class ChanceDetector():\n",
    "    \"\"\"Just a random number generator.\n",
    "    \"\"\"\n",
    "    def __init__(self, n_class):\n",
    "        self.n_class = 4\n",
    "\n",
    "    def fit(self, X_train, y_train):\n",
    "        return None\n",
    "    \n",
    "    def predict(self, X_test):\n",
    "        lx = len(X_test)\n",
    "        return np.random.randint(0, self.n_class, lx)"
   ]
  },
  {
   "cell_type": "code",
   "execution_count": 25,
   "metadata": {},
   "outputs": [],
   "source": [
    "### Scikit-learn pipeline combining a standard scaler and our model.\n",
    "estimators = []\n",
    "estimators.append(('standardize', StandardScaler()))\n",
    "estimators.append(('naive',  ChanceDetector(4)))\n",
    "pipeline_naive = Pipeline(estimators)"
   ]
  },
  {
   "cell_type": "code",
   "execution_count": 26,
   "metadata": {},
   "outputs": [
    {
     "name": "stdout",
     "output_type": "stream",
     "text": [
      "mg*s1* [0.2532051282051282, 0.24516129032258063, 0.27184466019417475] 0.25673702624062783\n",
      "mg*s2* [0.24390243902439024, 0.23076923076923078, 0.2523076923076923] 0.2423264540337711\n",
      "rr*s1* [0.26993865030674846, 0.2808641975308642, 0.2631578947368421] 0.27132024752481826\n",
      "rr*s2* [0.2085889570552147, 0.22530864197530864, 0.27469135802469136] 0.2361963190184049\n"
     ]
    }
   ],
   "source": [
    "### Fit and Test our model on the k_fold and store the results in result_intra.\n",
    "result_intra = hf.record_results_kfold(data_per_exp, result_intra, model=pipeline_naive, kfold=k_fold, key_result='naive_raw', key_data='raw')"
   ]
  },
  {
   "cell_type": "markdown",
   "metadata": {},
   "source": [
    "As expected we have scores around 25% using the naive model on each dataset."
   ]
  },
  {
   "cell_type": "markdown",
   "metadata": {},
   "source": [
    "### 4.1.1 With Logistic Regression"
   ]
  },
  {
   "cell_type": "code",
   "execution_count": 27,
   "metadata": {},
   "outputs": [],
   "source": [
    "### Scikit-learn pipeline combining a standard scaler and our model.\n",
    "estimators = []\n",
    "estimators.append(('standardize', StandardScaler()))\n",
    "estimators.append(('lr', LogisticRegression(solver='lbfgs', multi_class='multinomial')))\n",
    "pipeline_lr = Pipeline(estimators)"
   ]
  },
  {
   "cell_type": "code",
   "execution_count": 28,
   "metadata": {},
   "outputs": [
    {
     "name": "stdout",
     "output_type": "stream",
     "text": [
      "mg*s1* [0.25961538461538464, 0.26129032258064516, 0.2168284789644013] 0.24591139538681037\n",
      "mg*s2* [0.25609756097560976, 0.28615384615384615, 0.2523076923076923] 0.2648530331457161\n",
      "rr*s1* [0.27607361963190186, 0.24691358024691357, 0.25386996904024767] 0.2589523896396877\n",
      "rr*s2* [0.25153374233128833, 0.29012345679012347, 0.2808641975308642] 0.27417379888409205\n"
     ]
    }
   ],
   "source": [
    "### Fit and Test our model on the k_fold and store the results in result_intra.\n",
    "result_intra = hf.record_results_kfold(data_per_exp, result_intra, model=pipeline_lr, kfold=k_fold, key_result='lr_raw', key_data='raw')"
   ]
  },
  {
   "cell_type": "markdown",
   "metadata": {},
   "source": [
    "Barely above chance level"
   ]
  },
  {
   "cell_type": "markdown",
   "metadata": {},
   "source": [
    "### 4.1.2. With Deep Neural Net (DNN)"
   ]
  },
  {
   "cell_type": "code",
   "execution_count": 29,
   "metadata": {},
   "outputs": [],
   "source": [
    "def create_model(weights='initial_weights.hd5', n_features=800):\n",
    "    \"\"\"Function to create model, required for using KerasClassifier and wrapp a Keras model inside a \n",
    "    scikitlearn form.\n",
    "    We added a weight saving/loading to remove the randomness of the weight initialization (for better comparison).\n",
    "    \"\"\"\n",
    "    model = tf.keras.models.Sequential([\n",
    "    tf.keras.layers.Dense(34, activation='relu', input_shape=(n_features,)),\n",
    "    tf.keras.layers.Dense(17, activation='relu'),\n",
    "    tf.keras.layers.Dropout(0.2),\n",
    "    tf.keras.layers.Dense(4, activation='softmax'),\n",
    "])\n",
    "    \n",
    "    model.compile(loss = 'sparse_categorical_crossentropy', optimizer='rmsprop', metrics=['accuracy'])\n",
    "    if weights is None:\n",
    "        model.save_weights('initial_weights.hd5')\n",
    "    else:\n",
    "        model.load_weights(weights)\n",
    "    return model"
   ]
  },
  {
   "cell_type": "code",
   "execution_count": 30,
   "metadata": {},
   "outputs": [],
   "source": [
    "def create_model_variance(weights='initial_weights.hd5'):\n",
    "    return create_model(weights=weights, n_features=8)"
   ]
  },
  {
   "cell_type": "code",
   "execution_count": 31,
   "metadata": {},
   "outputs": [],
   "source": [
    "def create_model_covariance(weights='initial_weights.hd5'):\n",
    "    return create_model(weights=weights, n_features=36)"
   ]
  },
  {
   "cell_type": "code",
   "execution_count": 32,
   "metadata": {},
   "outputs": [
    {
     "name": "stderr",
     "output_type": "stream",
     "text": [
      "WARNING: Logging before flag parsing goes to stderr.\n",
      "W0604 15:56:00.367372 140555475265280 deprecation.py:506] From /home/marius/miniconda3/envs/stats/lib/python3.7/site-packages/tensorflow/python/ops/init_ops.py:1251: calling VarianceScaling.__init__ (from tensorflow.python.ops.init_ops) with dtype is deprecated and will be removed in a future version.\n",
      "Instructions for updating:\n",
      "Call initializer instance with the dtype argument instead of passing it to the constructor\n"
     ]
    }
   ],
   "source": [
    "generate_weights = create_model(weights=None)"
   ]
  },
  {
   "cell_type": "code",
   "execution_count": 33,
   "metadata": {},
   "outputs": [],
   "source": [
    "### Scikit-learn pipeline combining a standard scaler and our model.\n",
    "estimators = []\n",
    "estimators.append(('standardize', StandardScaler()))\n",
    "estimators.append(('dnn', KerasClassifier(build_fn=create_model, epochs=100, verbose=0)))\n",
    "pipeline_dnn = Pipeline(estimators)"
   ]
  },
  {
   "cell_type": "code",
   "execution_count": 34,
   "metadata": {},
   "outputs": [
    {
     "name": "stdout",
     "output_type": "stream",
     "text": [
      "mg*s1* [0.2724358974358974, 0.2645161290322581, 0.2621359223300971] 0.2663626495994175\n",
      "mg*s2* [0.28353658536585363, 0.3323076923076923, 0.27384615384615385] 0.2965634771732333\n",
      "rr*s1* [0.294478527607362, 0.30246913580246915, 0.2848297213622291] 0.2939257949240201\n",
      "rr*s2* [0.294478527607362, 0.2808641975308642, 0.29012345679012347] 0.28848872730944985\n"
     ]
    }
   ],
   "source": [
    "### Fit and Test our model on the k_fold and store the results in result_intra.\n",
    "# This training can take a bit of time.\n",
    "if TRAIN_DNN:\n",
    "    result_intra = hf.record_results_kfold(data_per_exp, result_intra, model=pipeline_dnn, kfold=k_fold, key_result='dnn_raw', key_data='raw')"
   ]
  },
  {
   "cell_type": "markdown",
   "metadata": {},
   "source": [
    "## 4.2 Using Covariances"
   ]
  },
  {
   "cell_type": "markdown",
   "metadata": {},
   "source": [
    "Just as for EEG, most of the information should be contains in the covariance matrix of each sample.\n",
    "For 8 channels and N_STEPS time steps samples, this matrix will have dimension 8x8"
   ]
  },
  {
   "cell_type": "code",
   "execution_count": 35,
   "metadata": {},
   "outputs": [
    {
     "data": {
      "text/html": [
       "<div>\n",
       "<style scoped>\n",
       "    .dataframe tbody tr th:only-of-type {\n",
       "        vertical-align: middle;\n",
       "    }\n",
       "\n",
       "    .dataframe tbody tr th {\n",
       "        vertical-align: top;\n",
       "    }\n",
       "\n",
       "    .dataframe thead th {\n",
       "        text-align: right;\n",
       "    }\n",
       "</style>\n",
       "<table border=\"1\" class=\"dataframe\">\n",
       "  <thead>\n",
       "    <tr style=\"text-align: right;\">\n",
       "      <th></th>\n",
       "      <th>time</th>\n",
       "      <th>c0</th>\n",
       "      <th>c1</th>\n",
       "      <th>c2</th>\n",
       "      <th>c3</th>\n",
       "      <th>c4</th>\n",
       "      <th>c5</th>\n",
       "      <th>c6</th>\n",
       "      <th>c7</th>\n",
       "      <th>label</th>\n",
       "      <th>exp</th>\n",
       "    </tr>\n",
       "  </thead>\n",
       "  <tbody>\n",
       "    <tr>\n",
       "      <th>13206</th>\n",
       "      <td>54156</td>\n",
       "      <td>123</td>\n",
       "      <td>127</td>\n",
       "      <td>127</td>\n",
       "      <td>128</td>\n",
       "      <td>127</td>\n",
       "      <td>128</td>\n",
       "      <td>127</td>\n",
       "      <td>127</td>\n",
       "      <td>2</td>\n",
       "      <td>mg*s1*</td>\n",
       "    </tr>\n",
       "    <tr>\n",
       "      <th>13207</th>\n",
       "      <td>54159</td>\n",
       "      <td>127</td>\n",
       "      <td>129</td>\n",
       "      <td>126</td>\n",
       "      <td>126</td>\n",
       "      <td>127</td>\n",
       "      <td>127</td>\n",
       "      <td>128</td>\n",
       "      <td>128</td>\n",
       "      <td>2</td>\n",
       "      <td>mg*s1*</td>\n",
       "    </tr>\n",
       "    <tr>\n",
       "      <th>13208</th>\n",
       "      <td>54162</td>\n",
       "      <td>132</td>\n",
       "      <td>124</td>\n",
       "      <td>123</td>\n",
       "      <td>126</td>\n",
       "      <td>128</td>\n",
       "      <td>127</td>\n",
       "      <td>129</td>\n",
       "      <td>123</td>\n",
       "      <td>2</td>\n",
       "      <td>mg*s1*</td>\n",
       "    </tr>\n",
       "    <tr>\n",
       "      <th>13209</th>\n",
       "      <td>54166</td>\n",
       "      <td>129</td>\n",
       "      <td>131</td>\n",
       "      <td>131</td>\n",
       "      <td>126</td>\n",
       "      <td>127</td>\n",
       "      <td>128</td>\n",
       "      <td>130</td>\n",
       "      <td>119</td>\n",
       "      <td>2</td>\n",
       "      <td>mg*s1*</td>\n",
       "    </tr>\n",
       "    <tr>\n",
       "      <th>13210</th>\n",
       "      <td>54169</td>\n",
       "      <td>124</td>\n",
       "      <td>130</td>\n",
       "      <td>130</td>\n",
       "      <td>136</td>\n",
       "      <td>124</td>\n",
       "      <td>128</td>\n",
       "      <td>134</td>\n",
       "      <td>123</td>\n",
       "      <td>2</td>\n",
       "      <td>mg*s1*</td>\n",
       "    </tr>\n",
       "    <tr>\n",
       "      <th>13211</th>\n",
       "      <td>54172</td>\n",
       "      <td>126</td>\n",
       "      <td>131</td>\n",
       "      <td>129</td>\n",
       "      <td>121</td>\n",
       "      <td>128</td>\n",
       "      <td>130</td>\n",
       "      <td>128</td>\n",
       "      <td>134</td>\n",
       "      <td>2</td>\n",
       "      <td>mg*s1*</td>\n",
       "    </tr>\n",
       "    <tr>\n",
       "      <th>13212</th>\n",
       "      <td>54176</td>\n",
       "      <td>131</td>\n",
       "      <td>131</td>\n",
       "      <td>127</td>\n",
       "      <td>125</td>\n",
       "      <td>127</td>\n",
       "      <td>131</td>\n",
       "      <td>121</td>\n",
       "      <td>135</td>\n",
       "      <td>2</td>\n",
       "      <td>mg*s1*</td>\n",
       "    </tr>\n",
       "    <tr>\n",
       "      <th>13213</th>\n",
       "      <td>54178</td>\n",
       "      <td>125</td>\n",
       "      <td>130</td>\n",
       "      <td>132</td>\n",
       "      <td>122</td>\n",
       "      <td>128</td>\n",
       "      <td>128</td>\n",
       "      <td>127</td>\n",
       "      <td>130</td>\n",
       "      <td>2</td>\n",
       "      <td>mg*s1*</td>\n",
       "    </tr>\n",
       "    <tr>\n",
       "      <th>13214</th>\n",
       "      <td>54181</td>\n",
       "      <td>124</td>\n",
       "      <td>128</td>\n",
       "      <td>130</td>\n",
       "      <td>122</td>\n",
       "      <td>128</td>\n",
       "      <td>131</td>\n",
       "      <td>130</td>\n",
       "      <td>126</td>\n",
       "      <td>2</td>\n",
       "      <td>mg*s1*</td>\n",
       "    </tr>\n",
       "    <tr>\n",
       "      <th>13215</th>\n",
       "      <td>54185</td>\n",
       "      <td>129</td>\n",
       "      <td>127</td>\n",
       "      <td>123</td>\n",
       "      <td>125</td>\n",
       "      <td>129</td>\n",
       "      <td>129</td>\n",
       "      <td>131</td>\n",
       "      <td>131</td>\n",
       "      <td>2</td>\n",
       "      <td>mg*s1*</td>\n",
       "    </tr>\n",
       "  </tbody>\n",
       "</table>\n",
       "</div>"
      ],
      "text/plain": [
       "        time   c0   c1   c2   c3   c4   c5   c6   c7  label     exp\n",
       "13206  54156  123  127  127  128  127  128  127  127      2  mg*s1*\n",
       "13207  54159  127  129  126  126  127  127  128  128      2  mg*s1*\n",
       "13208  54162  132  124  123  126  128  127  129  123      2  mg*s1*\n",
       "13209  54166  129  131  131  126  127  128  130  119      2  mg*s1*\n",
       "13210  54169  124  130  130  136  124  128  134  123      2  mg*s1*\n",
       "13211  54172  126  131  129  121  128  130  128  134      2  mg*s1*\n",
       "13212  54176  131  131  127  125  127  131  121  135      2  mg*s1*\n",
       "13213  54178  125  130  132  122  128  128  127  130      2  mg*s1*\n",
       "13214  54181  124  128  130  122  128  131  130  126      2  mg*s1*\n",
       "13215  54185  129  127  123  125  129  129  131  131      2  mg*s1*"
      ]
     },
     "execution_count": 35,
     "metadata": {},
     "output_type": "execute_result"
    }
   ],
   "source": [
    "i = start_sign[0]\n",
    "data_df.iloc[i: i+10]"
   ]
  },
  {
   "cell_type": "code",
   "execution_count": 36,
   "metadata": {},
   "outputs": [],
   "source": [
    "# Save the data pre-processed with covariance in a pickle to go faster at next execution \n",
    "# (You need to set LOAD_DATA to False if some parameters relative to this data needs to be modified).\n",
    "if 'cov.pickle' in os.listdir() and LOAD_DATA:\n",
    "    with open('cov.pickle', 'rb') as handle:\n",
    "        data_per_exp = pickle.load(handle)\n",
    "else:\n",
    "    for key, data in data_per_exp.items():\n",
    "        # X: your EEG data, in format Ntrials x Nchannels X Nsamples\n",
    "        emg_rows = data['raw']\n",
    "        X = np.array([x.reshape(N_STEPS, 8).transpose() for x in emg_rows])\n",
    "        # Covariance Matrix with Ledoit and Wolf Regularization (https://projecteuclid.org/euclid.aos/1342625460)\n",
    "        cov = pyriemann.estimation.Covariances(estimator='lwf').fit_transform(X)\n",
    "        # Computation of the vectorized matrix to used each elements as features (without Tangeant Space Projection).\n",
    "        covec = np.array([hf.vectorize_cov(cov_mat) for cov_mat in cov])\n",
    "        # The variance correspond to the diagonal elements of the covariance.\n",
    "        var = np.array([cov_mat.diagonal() for cov_mat in cov])\n",
    "        y = data['labels']\n",
    "        data['matrix'] = X\n",
    "        data['cov'] = cov\n",
    "        data['covec'] = covec\n",
    "        data['var'] = var\n",
    "    with open('cov.pickle', 'wb') as handle:\n",
    "        pickle.dump(data_per_exp, handle)"
   ]
  },
  {
   "cell_type": "code",
   "execution_count": 37,
   "metadata": {},
   "outputs": [
    {
     "data": {
      "text/plain": [
       "(931, 8, 100)"
      ]
     },
     "execution_count": 37,
     "metadata": {},
     "output_type": "execute_result"
    }
   ],
   "source": [
    "data_per_exp['mg*s1*']['matrix'].shape"
   ]
  },
  {
   "cell_type": "code",
   "execution_count": 38,
   "metadata": {},
   "outputs": [
    {
     "data": {
      "text/plain": [
       "(931, 8)"
      ]
     },
     "execution_count": 38,
     "metadata": {},
     "output_type": "execute_result"
    }
   ],
   "source": [
    "data_per_exp['mg*s1*']['var'].shape"
   ]
  },
  {
   "cell_type": "code",
   "execution_count": 39,
   "metadata": {},
   "outputs": [
    {
     "data": {
      "text/plain": [
       "(931, 36)"
      ]
     },
     "execution_count": 39,
     "metadata": {},
     "output_type": "execute_result"
    }
   ],
   "source": [
    "data_per_exp['mg*s1*']['covec'].shape"
   ]
  },
  {
   "cell_type": "code",
   "execution_count": 40,
   "metadata": {},
   "outputs": [
    {
     "data": {
      "text/plain": [
       "(931, 8, 8)"
      ]
     },
     "execution_count": 40,
     "metadata": {},
     "output_type": "execute_result"
    }
   ],
   "source": [
    "data_per_exp['mg*s1*']['cov'].shape"
   ]
  },
  {
   "cell_type": "markdown",
   "metadata": {},
   "source": [
    "### 4.2.1 Logistic Regression on Variance\n",
    "\n",
    "We first look only at the variance (or the energy of each electrodes'signal), that corresponds to the diagonal of the covariance."
   ]
  },
  {
   "cell_type": "code",
   "execution_count": 41,
   "metadata": {},
   "outputs": [],
   "source": [
    "### Scikit-learn pipeline combining a standard scaler and our model.\n",
    "estimators = []\n",
    "estimators.append(('standardize', StandardScaler()))\n",
    "estimators.append(('lr', LogisticRegression(solver='lbfgs', multi_class='multinomial')))\n",
    "pipeline_lr = Pipeline(estimators)"
   ]
  },
  {
   "cell_type": "code",
   "execution_count": 42,
   "metadata": {},
   "outputs": [
    {
     "name": "stdout",
     "output_type": "stream",
     "text": [
      "mg*s1* [0.967948717948718, 0.9838709677419355, 0.9676375404530745] 0.9731524087145761\n",
      "mg*s2* [0.9847560975609756, 0.9723076923076923, 0.9692307692307692] 0.9754315196998125\n",
      "rr*s1* [0.9846625766871165, 0.9907407407407407, 0.9845201238390093] 0.9866411470889555\n",
      "rr*s2* [0.9846625766871165, 0.9660493827160493, 0.9537037037037037] 0.9681385543689566\n"
     ]
    }
   ],
   "source": [
    "### Fit and Test our model on the k_fold and store the results in result_intra.\n",
    "result_intra = hf.record_results_kfold(data_per_exp, result_intra, model=pipeline_lr, kfold=k_fold, key_result='logreg_var', key_data='var')"
   ]
  },
  {
   "cell_type": "markdown",
   "metadata": {},
   "source": [
    "Way better results than everything else we tried so far! \n",
    "For this experiment with not much class, and only static signs, most of the discriminative information is contained in the variance."
   ]
  },
  {
   "cell_type": "markdown",
   "metadata": {},
   "source": [
    "### 4.2.2 DNN on Variance"
   ]
  },
  {
   "cell_type": "code",
   "execution_count": 43,
   "metadata": {},
   "outputs": [],
   "source": [
    "generate_weights = create_model_variance(weights=None)"
   ]
  },
  {
   "cell_type": "code",
   "execution_count": 44,
   "metadata": {},
   "outputs": [],
   "source": [
    "### Scikit-learn pipeline combining a standard scaler and our model.\n",
    "estimators = []\n",
    "estimators.append(('standardize', StandardScaler()))\n",
    "estimators.append(('dnn', KerasClassifier(build_fn=create_model_variance, epochs=100, verbose=0)))\n",
    "pipeline_dnn = Pipeline(estimators)"
   ]
  },
  {
   "cell_type": "code",
   "execution_count": 45,
   "metadata": {},
   "outputs": [
    {
     "name": "stdout",
     "output_type": "stream",
     "text": [
      "mg*s1* [0.9935897435897436, 0.9935483870967742, 0.9805825242718447] 0.9892402183194542\n",
      "mg*s2* [0.9939024390243902, 0.9876923076923076, 0.9907692307692307] 0.9907879924953096\n",
      "rr*s1* [0.9938650306748467, 0.9907407407407407, 0.9938080495356038] 0.9928046069837304\n",
      "rr*s2* [0.9846625766871165, 0.9814814814814815, 0.9660493827160493] 0.9773978136282158\n"
     ]
    }
   ],
   "source": [
    "### Fit and Test our model on the k_fold and store the results in result_intra.\n",
    "if TRAIN_DNN:\n",
    "    result_intra = hf.record_results_kfold(data_per_exp, result_intra, model=pipeline_dnn, kfold=k_fold, key_result='dnn_var', key_data='var')"
   ]
  },
  {
   "cell_type": "markdown",
   "metadata": {},
   "source": [
    "Let's try to add all covariances elements to see if we gain in accuracy."
   ]
  },
  {
   "cell_type": "markdown",
   "metadata": {},
   "source": [
    "### 4.2.3 Log Reg on covariance Matrix\n",
    "\n",
    "Let's now look if adding the non-diagonal elements of the covariance matrix can help to gain in accuracy."
   ]
  },
  {
   "cell_type": "code",
   "execution_count": 46,
   "metadata": {},
   "outputs": [],
   "source": [
    "### Scikit-learn pipeline combining a standard scaler and our model.\n",
    "estimators = []\n",
    "estimators.append(('standardize', StandardScaler()))\n",
    "estimators.append(('lr', LogisticRegression(solver='lbfgs', multi_class='multinomial')))\n",
    "pipeline_logreg = Pipeline(estimators)"
   ]
  },
  {
   "cell_type": "code",
   "execution_count": 47,
   "metadata": {},
   "outputs": [
    {
     "name": "stdout",
     "output_type": "stream",
     "text": [
      "mg*s1* [0.9743589743589743, 0.9806451612903225, 0.970873786407767] 0.975292640685688\n",
      "mg*s2* [0.9664634146341463, 0.9569230769230769, 0.9323076923076923] 0.9518980612883051\n",
      "rr*s1* [0.9846625766871165, 0.9876543209876543, 0.978328173374613] 0.9835483570164613\n",
      "rr*s2* [0.9846625766871165, 0.9629629629629629, 0.9475308641975309] 0.9650521346158701\n"
     ]
    }
   ],
   "source": [
    "### Fit and Test our model on the k_fold and store the results in result_intra.\n",
    "result_intra = hf.record_results_kfold(data_per_exp, result_intra, model=pipeline_logreg, kfold=k_fold, key_result='logreg_covec', key_data='covec')"
   ]
  },
  {
   "cell_type": "markdown",
   "metadata": {},
   "source": [
    "### 4.2.4 DNN on covariance Matrix"
   ]
  },
  {
   "cell_type": "code",
   "execution_count": 48,
   "metadata": {},
   "outputs": [],
   "source": [
    "generate_weights = create_model_covariance(weights=None)"
   ]
  },
  {
   "cell_type": "code",
   "execution_count": 49,
   "metadata": {},
   "outputs": [],
   "source": [
    "### Scikit-learn pipeline combining a standard scaler and our model.\n",
    "estimators = []\n",
    "estimators.append(('standardize', StandardScaler()))\n",
    "estimators.append(('dnn', KerasClassifier(build_fn=create_model_covariance, epochs=100, verbose=0)))\n",
    "pipeline_dnn = Pipeline(estimators)"
   ]
  },
  {
   "cell_type": "code",
   "execution_count": 50,
   "metadata": {},
   "outputs": [
    {
     "name": "stdout",
     "output_type": "stream",
     "text": [
      "mg*s1* [0.9807692307692307, 0.9935483870967742, 0.9805825242718447] 0.9849667140459498\n",
      "mg*s2* [0.9847560975609756, 0.963076923076923, 0.96] 0.9692776735459662\n",
      "rr*s1* [0.9877300613496932, 0.9969135802469136, 0.978328173374613] 0.9876572716570733\n",
      "rr*s2* [0.9785276073619632, 0.9382716049382716, 0.9382716049382716] 0.9516902724128355\n"
     ]
    }
   ],
   "source": [
    "### Fit and Test our model on the k_fold and store the results in result_intra.\n",
    "if TRAIN_DNN:\n",
    "    result_intra = hf.record_results_kfold(data_per_exp, result_intra, model=pipeline_dnn, kfold=k_fold, key_result='dnn_covec', key_data='covec')"
   ]
  },
  {
   "cell_type": "markdown",
   "metadata": {},
   "source": [
    "(I also ran it with unscaled data and it doesn't seem to change much here as the covariance are already scaled)"
   ]
  },
  {
   "cell_type": "markdown",
   "metadata": {},
   "source": [
    "### 4.2.5 Euclidean Minimum Distance to Mean (Eucl MDM)\n",
    "\n",
    "Now let's try to look at simpler algorithm (that might have bigger biais but potentially less variance as they have less parameters). We first look at the MDM in Euclidean geometry. For which we should be able to use covec or cov indifferently."
   ]
  },
  {
   "cell_type": "markdown",
   "metadata": {},
   "source": [
    "With Scaling."
   ]
  },
  {
   "cell_type": "code",
   "execution_count": 51,
   "metadata": {},
   "outputs": [],
   "source": [
    "### Scikit-learn pipeline combining a standard scaler and our model.\n",
    "estimators = []\n",
    "estimators.append(('standardize', StandardScaler()))\n",
    "estimators.append(('MDM', hf.ClosestMean()))\n",
    "pipeline_MDM = Pipeline(estimators)"
   ]
  },
  {
   "cell_type": "code",
   "execution_count": 52,
   "metadata": {},
   "outputs": [
    {
     "name": "stdout",
     "output_type": "stream",
     "text": [
      "mg*s1* [0.8141025641025641, 0.8032258064516129, 0.7831715210355987] 0.8001666305299252\n",
      "mg*s2* [0.774390243902439, 0.8307692307692308, 0.7753846153846153] 0.7935146966854285\n",
      "rr*s1* [0.7515337423312883, 0.7777777777777778, 0.7554179566563467] 0.7615764922551377\n",
      "rr*s2* [0.9049079754601227, 0.8672839506172839, 0.9074074074074074] 0.8931997778282713\n"
     ]
    }
   ],
   "source": [
    "result_intra = hf.record_results_kfold(data_per_exp, result_intra, model=pipeline_MDM, kfold=k_fold, key_result='eucl_mdm_covec', key_data='covec')"
   ]
  },
  {
   "cell_type": "markdown",
   "metadata": {},
   "source": [
    "Without Scaling."
   ]
  },
  {
   "cell_type": "code",
   "execution_count": 53,
   "metadata": {},
   "outputs": [
    {
     "name": "stdout",
     "output_type": "stream",
     "text": [
      "mg*s1* [0.9006410256410257, 0.8838709677419355, 0.8511326860841424] 0.8785482264890345\n",
      "mg*s2* [0.8536585365853658, 0.8523076923076923, 0.8061538461538461] 0.8373733583489681\n",
      "rr*s1* [0.8220858895705522, 0.8580246913580247, 0.8111455108359134] 0.8304186972548301\n",
      "rr*s2* [0.852760736196319, 0.8549382716049383, 0.8055555555555556] 0.8377515211189376\n"
     ]
    }
   ],
   "source": [
    "result_intra = hf.record_results_kfold(data_per_exp, result_intra, model=hf.ClosestMean(), kfold=k_fold, key_result='eucl_mdm_covec', key_data='covec')"
   ]
  },
  {
   "cell_type": "markdown",
   "metadata": {},
   "source": [
    "### 4.2.6 Riemannian MDM \n",
    "\n",
    "The covariance matrix are SPD matrix and the distance between SPD matrix can be measured with Riemanian metrics that have nice properties.\n",
    "(See for example how it is applied to EEG signal in https://hal.archives-ouvertes.fr/hal-01570120/document)"
   ]
  },
  {
   "cell_type": "markdown",
   "metadata": {},
   "source": [
    "Without Scaling."
   ]
  },
  {
   "cell_type": "code",
   "execution_count": 54,
   "metadata": {},
   "outputs": [
    {
     "name": "stdout",
     "output_type": "stream",
     "text": [
      "mg*s1* [0.9358974358974359, 0.9032258064516129, 0.883495145631068] 0.9075394626600389\n",
      "mg*s2* [0.9359756097560976, 0.9446153846153846, 0.9353846153846154] 0.9386585365853658\n",
      "rr*s1* [0.9386503067484663, 0.9228395061728395, 0.9256965944272446] 0.9290621357828502\n",
      "rr*s2* [0.9386503067484663, 0.9197530864197531, 0.9104938271604939] 0.9229657401095711\n"
     ]
    }
   ],
   "source": [
    "result_intra = hf.record_results_kfold(data_per_exp, result_intra, model=pyriemann.classification.MDM(), kfold=k_fold, key_result='riemann_mdm_cov', key_data='cov')"
   ]
  },
  {
   "cell_type": "markdown",
   "metadata": {},
   "source": [
    "### 4.2.7 Tangeant Space + Log Reg\n",
    "\n",
    "Another use of the Riemannian geometry is to project the covariance matrix on a tangeant space that is euclidean and on which we can apply usual machine learning algorithms. You can think of the projection as the translation of a sphere into a plan (like in the case of world maps)."
   ]
  },
  {
   "cell_type": "code",
   "execution_count": 55,
   "metadata": {},
   "outputs": [],
   "source": [
    "### Scikit-learn pipeline combining a standard scaler and our model.\n",
    "estimators = []\n",
    "estimators.append(('ts', TangentSpace()))\n",
    "estimators.append(('lr', LogisticRegression(solver='lbfgs', multi_class='multinomial')))\n",
    "pipeline_tang_lr = Pipeline(estimators)"
   ]
  },
  {
   "cell_type": "code",
   "execution_count": 56,
   "metadata": {},
   "outputs": [
    {
     "name": "stdout",
     "output_type": "stream",
     "text": [
      "mg*s1* [0.9871794871794872, 0.9935483870967742, 0.9838187702265372] 0.9881822148342662\n",
      "mg*s2* [0.9786585365853658, 0.9723076923076923, 0.9784615384615385] 0.9764759224515321\n",
      "rr*s1* [0.9938650306748467, 0.9938271604938271, 0.9969040247678018] 0.9948654053121585\n",
      "rr*s2* [0.9846625766871165, 0.9753086419753086, 0.9722222222222222] 0.9773978136282158\n"
     ]
    }
   ],
   "source": [
    "result_intra = hf.record_results_kfold(data_per_exp, result_intra, model=pipeline_tang_lr, kfold=k_fold, key_result='ts_logreg_cov', key_data='cov')"
   ]
  },
  {
   "cell_type": "markdown",
   "metadata": {},
   "source": [
    "### 4.2.8 Tangeant Space + DNN"
   ]
  },
  {
   "cell_type": "code",
   "execution_count": 57,
   "metadata": {},
   "outputs": [],
   "source": [
    "# Function to create model, required for KerasClassifier\n",
    "#def create_model_covariance(weights='initial_weights.hd5'):\n",
    "#    return create_model(weights=weights, n_features=36)\n",
    "generate_weights = create_model_covariance(weights=None)"
   ]
  },
  {
   "cell_type": "code",
   "execution_count": 58,
   "metadata": {},
   "outputs": [],
   "source": [
    "estimators = []\n",
    "#estimators.append(('standardize', StandardScaler()))\n",
    "estimators.append(('ts', TangentSpace()))\n",
    "estimators.append(('dnn', KerasClassifier(build_fn=create_model_covariance, epochs=100, verbose=0)))\n",
    "pipeline_tang_dnn = Pipeline(estimators)"
   ]
  },
  {
   "cell_type": "code",
   "execution_count": 59,
   "metadata": {},
   "outputs": [
    {
     "name": "stdout",
     "output_type": "stream",
     "text": [
      "mg*s1* [0.9935897435897436, 0.9967741935483871, 0.9935275080906149] 0.9946304817429152\n",
      "mg*s2* [0.9939024390243902, 0.9876923076923076, 0.9938461538461538] 0.9918136335209505\n",
      "rr*s1* [0.9938650306748467, 0.9969135802469136, 0.9907120743034056] 0.9938302284083886\n",
      "rr*s2* [0.9938650306748467, 0.9876543209876543, 0.9814814814814815] 0.9876669443813274\n"
     ]
    }
   ],
   "source": [
    "if TRAIN_DNN:\n",
    "    result_intra = hf.record_results_kfold(data_per_exp, result_intra, model=pipeline_tang_dnn, kfold=k_fold, key_result='ts_dnn_cov', key_data='cov')"
   ]
  },
  {
   "cell_type": "markdown",
   "metadata": {},
   "source": [
    "## 4.3 Plotting intra-sessions results"
   ]
  },
  {
   "cell_type": "code",
   "execution_count": 60,
   "metadata": {},
   "outputs": [],
   "source": [
    "acc_vec = np.array([acc_model['acc_all'] for key, acc_model in result_intra.items()]).transpose()\n",
    "model_labels = result_intra.keys()"
   ]
  },
  {
   "cell_type": "code",
   "execution_count": 61,
   "metadata": {},
   "outputs": [
    {
     "data": {
      "image/png": "[encoded data removed]",
      "text/plain": [
       "<Figure size 1440x1080 with 1 Axes>"
      ]
     },
     "metadata": {
      "needs_background": "light"
     },
     "output_type": "display_data"
    }
   ],
   "source": [
    "viz.bar_plot_scatter_comp([acc_vec], model_labels, 'intra-session', ['acc'])"
   ]
  },
  {
   "cell_type": "markdown",
   "metadata": {},
   "source": [
    "We notice that most of the information of the signal seem to be contained in the covariance matrix of the electrodes (and particularly in its diagonal: the variances)"
   ]
  },
  {
   "cell_type": "code",
   "execution_count": 62,
   "metadata": {},
   "outputs": [],
   "source": [
    "acc_var = np.array([acc_model['acc_all'] for key, acc_model in result_intra.items() if 'raw' not in key]).transpose()\n",
    "model_labels = [x for x in result_intra.keys() if 'raw' not in x]"
   ]
  },
  {
   "cell_type": "code",
   "execution_count": 63,
   "metadata": {},
   "outputs": [
    {
     "data": {
      "text/plain": [
       "(0.7, 1.1)"
      ]
     },
     "execution_count": 63,
     "metadata": {},
     "output_type": "execute_result"
    },
    {
     "data": {
      "image/png": "[encoded data removed]",
      "text/plain": [
       "<Figure size 1440x1080 with 1 Axes>"
      ]
     },
     "metadata": {
      "needs_background": "light"
     },
     "output_type": "display_data"
    }
   ],
   "source": [
    "viz.bar_plot_scatter_comp([acc_var], model_labels, 'intra-session', ['acc'])\n",
    "plt.ylim([0.7, 1.1])"
   ]
  },
  {
   "cell_type": "markdown",
   "metadata": {},
   "source": [
    "Depending on the value you chose for N_STEPS, you may or may not see a big difference between this algorithms but you should observe a this kind of trend (at least with N_STEPS = 100):\n",
    "- At least with these models training on raw data is completely inefficient (might works better with RNN, but might also probably overfit between sessions...)\n",
    "- For very simple models (MDM), Riemannian framework gives better result that the usual euclidean geometry.\n",
    "- For standard models (logreg, DNN), the accuracy is similar with slightly better results for model using tangeant space."
   ]
  },
  {
   "cell_type": "markdown",
   "metadata": {},
   "source": [
    "# 5. Model on Inter-session\n",
    "\n",
    "Here we train model on one session, and then test this model on another session, after the user removed and repositioned the armband. This is to evaluate what kind of performance we could get without having to recalibrate the device everytime the users are removing it."
   ]
  },
  {
   "cell_type": "markdown",
   "metadata": {},
   "source": [
    "## 5.1 Euclidean MDM"
   ]
  },
  {
   "cell_type": "code",
   "execution_count": 64,
   "metadata": {},
   "outputs": [],
   "source": [
    "### This dictionary will contain the results for the inter-session experiments\n",
    "result_intersess = {}"
   ]
  },
  {
   "cell_type": "markdown",
   "metadata": {},
   "source": [
    "With Scaling."
   ]
  },
  {
   "cell_type": "code",
   "execution_count": 65,
   "metadata": {},
   "outputs": [],
   "source": [
    "### Scikit-learn pipeline combining a standard scaler and our model.\n",
    "estimators = []\n",
    "estimators.append(('standardize', StandardScaler()))\n",
    "estimators.append(('MDM', hf.ClosestMean()))\n",
    "pipeline_MDM = Pipeline(estimators)"
   ]
  },
  {
   "cell_type": "code",
   "execution_count": 66,
   "metadata": {},
   "outputs": [
    {
     "name": "stdout",
     "output_type": "stream",
     "text": [
      "mg*s1* mg*s2* 0.5838445807770961\n",
      "mg*s2* mg*s1* 0.5746509129967776\n",
      "rr*s1* rr*s2* 0.5277207392197125\n",
      "rr*s2* rr*s1* 0.5950668036998972\n",
      "avg: 0.5703207591733708\n"
     ]
    }
   ],
   "source": [
    "result_intersess = hf.train_test_intersession(data_per_exp, result_intersess, pipeline_MDM, key_result='eucl_mdm', data_type='covec')"
   ]
  },
  {
   "cell_type": "markdown",
   "metadata": {},
   "source": [
    "Without Scaling."
   ]
  },
  {
   "cell_type": "code",
   "execution_count": 67,
   "metadata": {},
   "outputs": [
    {
     "name": "stdout",
     "output_type": "stream",
     "text": [
      "mg*s1* mg*s2* 0.6492842535787321\n",
      "mg*s2* mg*s1* 0.7389903329752954\n",
      "rr*s1* rr*s2* 0.5277207392197125\n",
      "rr*s2* rr*s1* 0.8047276464542652\n",
      "avg: 0.6801807430570013\n"
     ]
    }
   ],
   "source": [
    "result_intersess = hf.train_test_intersession(data_per_exp, result_intersess, hf.ClosestMean(), key_result='eucl_mdm', data_type='covec')"
   ]
  },
  {
   "cell_type": "markdown",
   "metadata": {},
   "source": [
    "## 5.2 Riemann MDM"
   ]
  },
  {
   "cell_type": "code",
   "execution_count": 68,
   "metadata": {},
   "outputs": [
    {
     "name": "stdout",
     "output_type": "stream",
     "text": [
      "mg*s1* mg*s2* 0.6339468302658486\n",
      "mg*s2* mg*s1* 0.44575725026852847\n",
      "rr*s1* rr*s2* 0.6837782340862423\n",
      "rr*s2* rr*s1* 0.7841726618705036\n",
      "avg: 0.6369137441227808\n"
     ]
    }
   ],
   "source": [
    "result_intersess = hf.train_test_intersession(data_per_exp, result_intersess, pyriemann.classification.MDM(), key_result='riemann_mdm', data_type='cov')"
   ]
  },
  {
   "cell_type": "markdown",
   "metadata": {},
   "source": [
    "## 5.3 Log Reg on cov"
   ]
  },
  {
   "cell_type": "code",
   "execution_count": 69,
   "metadata": {},
   "outputs": [
    {
     "name": "stdout",
     "output_type": "stream",
     "text": [
      "mg*s1* mg*s2* 0.7157464212678937\n",
      "mg*s2* mg*s1* 0.4189044038668099\n"
     ]
    },
    {
     "name": "stderr",
     "output_type": "stream",
     "text": [
      "/home/marius/miniconda3/envs/stats/lib/python3.7/site-packages/sklearn/linear_model/logistic.py:758: ConvergenceWarning: lbfgs failed to converge. Increase the number of iterations.\n",
      "  \"of iterations.\", ConvergenceWarning)\n",
      "/home/marius/miniconda3/envs/stats/lib/python3.7/site-packages/sklearn/linear_model/logistic.py:758: ConvergenceWarning: lbfgs failed to converge. Increase the number of iterations.\n",
      "  \"of iterations.\", ConvergenceWarning)\n",
      "/home/marius/miniconda3/envs/stats/lib/python3.7/site-packages/sklearn/linear_model/logistic.py:758: ConvergenceWarning: lbfgs failed to converge. Increase the number of iterations.\n",
      "  \"of iterations.\", ConvergenceWarning)\n"
     ]
    },
    {
     "name": "stdout",
     "output_type": "stream",
     "text": [
      "rr*s1* rr*s2* 0.7053388090349076\n",
      "rr*s2* rr*s1* 0.7821171634121274\n",
      "avg: 0.6555266993954346\n"
     ]
    },
    {
     "name": "stderr",
     "output_type": "stream",
     "text": [
      "/home/marius/miniconda3/envs/stats/lib/python3.7/site-packages/sklearn/linear_model/logistic.py:758: ConvergenceWarning: lbfgs failed to converge. Increase the number of iterations.\n",
      "  \"of iterations.\", ConvergenceWarning)\n"
     ]
    }
   ],
   "source": [
    "result_intersess = hf.train_test_intersession(data_per_exp, result_intersess, LogisticRegression(solver='lbfgs', multi_class='multinomial'), key_result='logrec_covec', data_type='covec')"
   ]
  },
  {
   "cell_type": "markdown",
   "metadata": {},
   "source": [
    "## 5.4 Tangeant + Log Reg"
   ]
  },
  {
   "cell_type": "code",
   "execution_count": 70,
   "metadata": {},
   "outputs": [],
   "source": [
    "estimators = []\n",
    "estimators.append(('ts', TangentSpace()))\n",
    "estimators.append(('lr', LogisticRegression(solver='lbfgs', multi_class='multinomial')))\n",
    "pipeline_tang_lr = Pipeline(estimators)"
   ]
  },
  {
   "cell_type": "code",
   "execution_count": 71,
   "metadata": {},
   "outputs": [
    {
     "name": "stdout",
     "output_type": "stream",
     "text": [
      "mg*s1* mg*s2* 0.7310838445807771\n",
      "mg*s2* mg*s1* 0.5875402792696026\n",
      "rr*s1* rr*s2* 0.6930184804928131\n",
      "rr*s2* rr*s1* 0.9044193216855088\n",
      "avg: 0.7290154815071754\n"
     ]
    }
   ],
   "source": [
    "result_intersess = hf.train_test_intersession(data_per_exp, result_intersess, pipeline_tang_lr, key_result='ts_logrec_cov', data_type='cov')"
   ]
  },
  {
   "cell_type": "markdown",
   "metadata": {},
   "source": [
    "## 5.5 DNN on Cov"
   ]
  },
  {
   "cell_type": "code",
   "execution_count": 72,
   "metadata": {},
   "outputs": [],
   "source": [
    "# Function to create model, required for KerasClassifier\n",
    "#def create_model_covariance(weights='initial_weights.hd5'):\n",
    "#    return create_model(weights=weights, n_features=36)\n",
    "generate_weights = create_model_covariance(weights=None)"
   ]
  },
  {
   "cell_type": "code",
   "execution_count": 73,
   "metadata": {},
   "outputs": [],
   "source": [
    "estimators = []\n",
    "#estimators.append(('standardize', StandardScaler()))\n",
    "estimators.append(('ts', TangentSpace()))\n",
    "estimators.append(('dnn', KerasClassifier(build_fn=create_model_covariance, epochs=100, verbose=0)))\n",
    "pipeline_tang_dnn = Pipeline(estimators)"
   ]
  },
  {
   "cell_type": "code",
   "execution_count": 74,
   "metadata": {},
   "outputs": [
    {
     "name": "stdout",
     "output_type": "stream",
     "text": [
      "mg*s1* mg*s2* 0.6615541922290389\n",
      "mg*s2* mg*s1* 0.5048335123523093\n",
      "rr*s1* rr*s2* 0.7587268993839835\n",
      "rr*s2* rr*s1* 0.8520041109969168\n",
      "avg: 0.6942796787405621\n"
     ]
    }
   ],
   "source": [
    "if TRAIN_DNN:\n",
    "    result_intersess = hf.train_test_intersession(data_per_exp, result_intersess, pipeline_tang_dnn, key_result='ts_dnn_cov', data_type='cov')"
   ]
  },
  {
   "cell_type": "markdown",
   "metadata": {},
   "source": [
    "## 5.6 Tangeant + DNN"
   ]
  },
  {
   "cell_type": "code",
   "execution_count": 75,
   "metadata": {},
   "outputs": [],
   "source": [
    "#def create_model_covariance(weights='initial_weights.hd5'):\n",
    "#    return create_model(weights=weights, n_features=36)\n",
    "generate_weights = create_model_covariance(weights=None)"
   ]
  },
  {
   "cell_type": "code",
   "execution_count": 76,
   "metadata": {},
   "outputs": [
    {
     "name": "stdout",
     "output_type": "stream",
     "text": [
      "mg*s1* mg*s2* 0.7351738241308794\n",
      "mg*s2* mg*s1* 0.6143931256713212\n",
      "rr*s1* rr*s2* 0.7135523613963038\n",
      "rr*s2* rr*s1* 0.8191161356628982\n",
      "avg: 0.7205588617153507\n"
     ]
    }
   ],
   "source": [
    "if TRAIN_DNN:\n",
    "    result_intersess = hf.train_test_intersession(data_per_exp, result_intersess, KerasClassifier(build_fn=create_model_covariance, epochs=100, verbose=0), key_result='dnn_covec', data_type='covec')"
   ]
  },
  {
   "cell_type": "code",
   "execution_count": 77,
   "metadata": {},
   "outputs": [],
   "source": [
    "acc_inter = np.array([list(model['acc'].values()) for key, model in result_intersess.items()]).transpose()[0]\n",
    "model_labels = [x for x in result_intersess.keys()]"
   ]
  },
  {
   "cell_type": "code",
   "execution_count": 78,
   "metadata": {},
   "outputs": [
    {
     "data": {
      "image/png": "[encoded data removed]",
      "text/plain": [
       "<Figure size 1440x1080 with 1 Axes>"
      ]
     },
     "metadata": {
      "needs_background": "light"
     },
     "output_type": "display_data"
    }
   ],
   "source": [
    "viz.bar_plot_scatter_comp([acc_inter], model_labels, 'inter-session', ['acc'])\n",
    "#plt.ylim([0.7, 1.1])"
   ]
  },
  {
   "cell_type": "markdown",
   "metadata": {},
   "source": [
    "# 6. Model on Inter-subjects"
   ]
  },
  {
   "cell_type": "code",
   "execution_count": 79,
   "metadata": {},
   "outputs": [],
   "source": [
    "### This dictionary will contain the results for the inter-subjects experiments.\n",
    "result_subj = {}"
   ]
  },
  {
   "cell_type": "markdown",
   "metadata": {},
   "source": [
    "## 6.1 Euclidean MDM"
   ]
  },
  {
   "cell_type": "code",
   "execution_count": 80,
   "metadata": {},
   "outputs": [
    {
     "name": "stdout",
     "output_type": "stream",
     "text": [
      "mg*s1* rr*s1* 0.25488180883864336\n",
      "mg*s1* rr*s2* 0.2587268993839836\n",
      "mg*s2* rr*s1* 0.26618705035971224\n",
      "mg*s2* rr*s2* 0.27618069815195073\n",
      "rr*s1* mg*s1* 0.2964554242749731\n",
      "rr*s1* mg*s2* 0.49897750511247446\n",
      "rr*s2* mg*s1* 0.4414607948442535\n",
      "rr*s2* mg*s2* 0.6175869120654397\n",
      "avg: 0.36380713662892883\n"
     ]
    }
   ],
   "source": [
    "result_subj = hf.train_test_intersubjects(data_per_exp, result_subj, hf.ClosestMean(), key_result='mdm_eucl')"
   ]
  },
  {
   "cell_type": "markdown",
   "metadata": {},
   "source": [
    "## 6.2 Riemann MDM"
   ]
  },
  {
   "cell_type": "code",
   "execution_count": 81,
   "metadata": {},
   "outputs": [
    {
     "name": "stdout",
     "output_type": "stream",
     "text": [
      "mg*s1* rr*s1* 0.23741007194244604\n",
      "mg*s1* rr*s2* 0.25770020533880905\n",
      "mg*s2* rr*s1* 0.3823227132579651\n",
      "mg*s2* rr*s2* 0.41683778234086244\n",
      "rr*s1* mg*s1* 0.2953813104189044\n",
      "rr*s1* mg*s2* 0.4233128834355828\n",
      "rr*s2* mg*s1* 0.21267454350161116\n",
      "rr*s2* mg*s2* 0.5184049079754601\n",
      "avg: 0.34300555227645513\n"
     ]
    }
   ],
   "source": [
    "result_subj = hf.train_test_intersubjects(data_per_exp, result_subj, pyriemann.classification.MDM(), key_result='mdm_riemann')"
   ]
  },
  {
   "cell_type": "markdown",
   "metadata": {},
   "source": [
    "## 6.3 Log Reg on cov"
   ]
  },
  {
   "cell_type": "code",
   "execution_count": 82,
   "metadata": {},
   "outputs": [
    {
     "name": "stdout",
     "output_type": "stream",
     "text": [
      "mg*s1* rr*s1* 0.4244604316546763\n",
      "mg*s1* rr*s2* 0.6416837782340863\n",
      "mg*s2* rr*s1* 0.3175745118191161\n",
      "mg*s2* rr*s2* 0.3028747433264887\n"
     ]
    },
    {
     "name": "stderr",
     "output_type": "stream",
     "text": [
      "/home/marius/miniconda3/envs/stats/lib/python3.7/site-packages/sklearn/linear_model/logistic.py:758: ConvergenceWarning: lbfgs failed to converge. Increase the number of iterations.\n",
      "  \"of iterations.\", ConvergenceWarning)\n",
      "/home/marius/miniconda3/envs/stats/lib/python3.7/site-packages/sklearn/linear_model/logistic.py:758: ConvergenceWarning: lbfgs failed to converge. Increase the number of iterations.\n",
      "  \"of iterations.\", ConvergenceWarning)\n",
      "/home/marius/miniconda3/envs/stats/lib/python3.7/site-packages/sklearn/linear_model/logistic.py:758: ConvergenceWarning: lbfgs failed to converge. Increase the number of iterations.\n",
      "  \"of iterations.\", ConvergenceWarning)\n"
     ]
    },
    {
     "name": "stdout",
     "output_type": "stream",
     "text": [
      "rr*s1* mg*s1* 0.40494092373791624\n",
      "rr*s1* mg*s2* 0.591002044989775\n",
      "rr*s2* mg*s1* 0.47261009667024706\n",
      "rr*s2* mg*s2* 0.6738241308793456\n",
      "avg: 0.47862133266395646\n"
     ]
    },
    {
     "name": "stderr",
     "output_type": "stream",
     "text": [
      "/home/marius/miniconda3/envs/stats/lib/python3.7/site-packages/sklearn/linear_model/logistic.py:758: ConvergenceWarning: lbfgs failed to converge. Increase the number of iterations.\n",
      "  \"of iterations.\", ConvergenceWarning)\n"
     ]
    }
   ],
   "source": [
    "result_subj = hf.train_test_intersubjects(data_per_exp, result_subj, LogisticRegression(solver='lbfgs', multi_class='multinomial'), key_result='log_covec', data_type='covec')"
   ]
  },
  {
   "cell_type": "markdown",
   "metadata": {},
   "source": [
    "## 6.4 Tangeant + Log Reg"
   ]
  },
  {
   "cell_type": "code",
   "execution_count": 83,
   "metadata": {},
   "outputs": [],
   "source": [
    "estimators = []\n",
    "estimators.append(('ts', TangentSpace()))\n",
    "estimators.append(('lr', LogisticRegression(solver='lbfgs', multi_class='multinomial')))\n",
    "pipeline_tang_lr = Pipeline(estimators)"
   ]
  },
  {
   "cell_type": "code",
   "execution_count": 84,
   "metadata": {},
   "outputs": [
    {
     "name": "stdout",
     "output_type": "stream",
     "text": [
      "mg*s1* rr*s1* 0.17163412127440905\n",
      "mg*s1* rr*s2* 0.25051334702258726\n",
      "mg*s2* rr*s1* 0.24049331963001028\n",
      "mg*s2* rr*s2* 0.2515400410677618\n",
      "rr*s1* mg*s1* 0.2900107411385607\n",
      "rr*s1* mg*s2* 0.7280163599182005\n",
      "rr*s2* mg*s1* 0.4296455424274973\n",
      "rr*s2* mg*s2* 0.6789366053169734\n",
      "avg: 0.3800987597245\n"
     ]
    }
   ],
   "source": [
    "result_subj = hf.train_test_intersubjects(data_per_exp, result_subj, pipeline_tang_lr, key_result='ts_log')"
   ]
  },
  {
   "cell_type": "markdown",
   "metadata": {},
   "source": [
    "## 6.5 DNN on Cov"
   ]
  },
  {
   "cell_type": "markdown",
   "metadata": {},
   "source": [
    "generate_weights = create_model(weights=None)"
   ]
  },
  {
   "cell_type": "code",
   "execution_count": 85,
   "metadata": {},
   "outputs": [
    {
     "name": "stdout",
     "output_type": "stream",
     "text": [
      "mg*s1* rr*s1* 0.3381294964028777\n",
      "mg*s1* rr*s2* 0.6919917864476386\n",
      "mg*s2* rr*s1* 0.47173689619732784\n",
      "mg*s2* rr*s2* 0.35831622176591377\n",
      "rr*s1* mg*s1* 0.4167561761546724\n",
      "rr*s1* mg*s2* 0.6042944785276073\n",
      "rr*s2* mg*s1* 0.4167561761546724\n",
      "rr*s2* mg*s2* 0.5603271983640081\n",
      "avg: 0.48228855375183977\n"
     ]
    }
   ],
   "source": [
    "if TRAIN_DNN:\n",
    "    result_subj = hf.train_test_intersubjects(data_per_exp, result_subj, KerasClassifier(build_fn=create_model_covariance, epochs=100, verbose=0), key_result='dnn_covec', data_type='covec')"
   ]
  },
  {
   "cell_type": "markdown",
   "metadata": {},
   "source": [
    "## 6.6 Tangeant + DNN"
   ]
  },
  {
   "cell_type": "code",
   "execution_count": 86,
   "metadata": {},
   "outputs": [],
   "source": [
    "estimators = []\n",
    "#estimators.append(('standardize', StandardScaler()))\n",
    "estimators.append(('ts', TangentSpace()))\n",
    "estimators.append(('dnn', KerasClassifier(build_fn=create_model_covariance, epochs=100, verbose=0)))\n",
    "pipeline_tang_dnn = Pipeline(estimators)"
   ]
  },
  {
   "cell_type": "code",
   "execution_count": 87,
   "metadata": {},
   "outputs": [
    {
     "name": "stdout",
     "output_type": "stream",
     "text": [
      "mg*s1* rr*s1* 0.32990750256937307\n",
      "mg*s1* rr*s2* 0.25770020533880905\n",
      "mg*s2* rr*s1* 0.25590955806783144\n",
      "mg*s2* rr*s2* 0.25256673511293637\n",
      "rr*s1* mg*s1* 0.3920515574650913\n",
      "rr*s1* mg*s2* 0.7351738241308794\n",
      "rr*s2* mg*s1* 0.4070891514500537\n",
      "rr*s2* mg*s2* 0.6840490797546013\n",
      "avg: 0.4143059517361969\n"
     ]
    }
   ],
   "source": [
    "if TRAIN_DNN:\n",
    "    result_subj = hf.train_test_intersubjects(data_per_exp, result_subj, pipeline_tang_dnn, key_result='ts_dnn')"
   ]
  },
  {
   "cell_type": "markdown",
   "metadata": {},
   "source": [
    "# Plotting"
   ]
  },
  {
   "cell_type": "code",
   "execution_count": 88,
   "metadata": {},
   "outputs": [],
   "source": [
    "acc_subj = np.array([model['acc'] for key, model in result_subj.items()]).transpose()\n",
    "model_labels = [x for x in result_subj.keys()]"
   ]
  },
  {
   "cell_type": "code",
   "execution_count": 89,
   "metadata": {},
   "outputs": [
    {
     "data": {
      "image/png": "[encoded data removed]",
      "text/plain": [
       "<Figure size 1440x1080 with 1 Axes>"
      ]
     },
     "metadata": {
      "needs_background": "light"
     },
     "output_type": "display_data"
    }
   ],
   "source": [
    "viz.bar_plot_scatter_comp([acc_subj], model_labels, 'inter-subj', ['acc'])"
   ]
  },
  {
   "cell_type": "code",
   "execution_count": 90,
   "metadata": {},
   "outputs": [
    {
     "name": "stdout",
     "output_type": "stream",
     "text": [
      "640.8950803279877\n"
     ]
    }
   ],
   "source": [
    "b = time.time()\n",
    "print(b - a)"
   ]
  }
 ],
 "metadata": {
  "kernelspec": {
   "display_name": "Python 3",
   "language": "python",
   "name": "python3"
  },
  "language_info": {
   "codemirror_mode": {
    "name": "ipython",
    "version": 3
   },
   "file_extension": ".py",
   "mimetype": "text/x-python",
   "name": "python",
   "nbconvert_exporter": "python",
   "pygments_lexer": "ipython3",
   "version": "3.7.2"
  }
 },
 "nbformat": 4,
 "nbformat_minor": 4
}
