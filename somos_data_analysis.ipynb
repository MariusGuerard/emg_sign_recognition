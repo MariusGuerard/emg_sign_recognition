{
 "cells": [
  {
   "cell_type": "markdown",
   "metadata": {},
   "source": [
    "To do \n",
    "- Eventually optimize to get another DNN architecture?\n",
    "- Integrate covariance computation into pipeline (instead of pre-processing)\n",
    "- visualize covariance matrix\n",
    "- visualize the scatter plots of the n(n+1)/2 covar points for eqch signs.\n",
    "- Try SVM (like barachant)\n",
    "- Try Nina's metrics"
   ]
  },
  {
   "cell_type": "markdown",
   "metadata": {},
   "source": [
    "# 0. Interactive Cloud Version \n",
    "(Select GPU/TPU for faster training of the Tensorflow models).\n",
    "\n",
    "https://colab.research.google.com/github/MariusGuerard/emg_sign_recognition/blob/master/somos_data_analysis.ipynb"
   ]
  },
  {
   "cell_type": "code",
   "execution_count": 1,
   "metadata": {},
   "outputs": [],
   "source": [
    "import time\n",
    "a = time.time()"
   ]
  },
  {
   "cell_type": "code",
   "execution_count": 2,
   "metadata": {},
   "outputs": [],
   "source": [
    "# Set to true if run in colab\n",
    "RUN_IN_COLAB = False"
   ]
  },
  {
   "cell_type": "code",
   "execution_count": 3,
   "metadata": {},
   "outputs": [],
   "source": [
    "if RUN_IN_COLAB:\n",
    "    # Installing non-colab library.\n",
    "    !pip install pyriemann\n",
    "    \n",
    "    # Downloading custom library (not available with pip)\n",
    "    !wget https://raw.githubusercontent.com/MariusGuerard/emg_sign_recognition/master/helper_function.py \\\n",
    "        -O /tmp/helper_function.py\n",
    "    !wget https://raw.githubusercontent.com/MariusGuerard/emg_sign_recognition/master/viz.py \\\n",
    "        -O /tmp/viz.py\n",
    "\n",
    "    ### Add the tmp directory to the path to be able to import the custom libraries.\n",
    "    import sys\n",
    "    sys.path.append('/tmp/')\n",
    "\n",
    "    ### Downloading and extracting the data\n",
    "    !wget https://github.com/MariusGuerard/emg_sign_recognition/blob/master/data/data_somos.zip?raw=true\\\n",
    "        -O /tmp/data_somos.zip\n",
    "    !unzip -o /tmp/data_somos.zip -d /tmp/data_somos/\n",
    "    # Directory of the data\n",
    "    data_dir = '/tmp/data_somos/JAN20/'\n",
    "    \n",
    "else:\n",
    "    data_dir = 'data/data_somos/JAN20/'"
   ]
  },
  {
   "cell_type": "markdown",
   "metadata": {},
   "source": [
    "# Start of the notebook if ran in local"
   ]
  },
  {
   "cell_type": "code",
   "execution_count": 4,
   "metadata": {},
   "outputs": [
    {
     "name": "stderr",
     "output_type": "stream",
     "text": [
      "Using TensorFlow backend.\n"
     ]
    }
   ],
   "source": [
    "import os, pickle\n",
    "os.environ['KMP_DUPLICATE_LIB_OK']='True'\n",
    "from os.path import join\n",
    "from glob import glob\n",
    "import time\n",
    "\n",
    "import numpy as np\n",
    "import matplotlib.pyplot as plt\n",
    "import matplotlib\n",
    "matplotlib.rcParams['figure.figsize'] = (20.0, 10.0)\n",
    "import seaborn as sns\n",
    "import pandas as pd\n",
    "from sklearn.model_selection import cross_val_score, train_test_split\n",
    "from sklearn.model_selection import cross_val_score, train_test_split, cross_validate, StratifiedKFold\n",
    "from sklearn.linear_model import LogisticRegression\n",
    "from sklearn.pipeline import Pipeline\n",
    "from keras.wrappers.scikit_learn import KerasClassifier\n",
    "from sklearn.preprocessing import StandardScaler\n",
    "import tensorflow as tf\n",
    "#from tensorflow.keras import Sequential\n",
    "tf.__version__\n",
    "\n",
    "import pyriemann\n",
    "from pyriemann.tangentspace import TangentSpace\n",
    "\n",
    "import helper_function as hf\n",
    "import viz"
   ]
  },
  {
   "cell_type": "code",
   "execution_count": 5,
   "metadata": {},
   "outputs": [],
   "source": [
    "# Number of splits in the K_Fold (for intra-session only)\n",
    "N_SPLIT = 3\n",
    "### Number of hardware acquisitions to consider as a trial.\n",
    "# The higher the number of steps, the longer the decision time but the better the accuracy.\n",
    "# With current hardware, the sampling frequency is 4ms, so N_STEPS of 100 correspond to trial time (decision time) of 400ms\n",
    "N_STEPS = 100"
   ]
  },
  {
   "cell_type": "code",
   "execution_count": 6,
   "metadata": {},
   "outputs": [],
   "source": [
    "dic_result = {}"
   ]
  },
  {
   "cell_type": "code",
   "execution_count": 7,
   "metadata": {},
   "outputs": [],
   "source": [
    "#!gsutil rsync -r gs://data_somos/ ."
   ]
  },
  {
   "cell_type": "markdown",
   "metadata": {},
   "source": [
    "# 1. Preliminary comments"
   ]
  },
  {
   "cell_type": "code",
   "execution_count": 8,
   "metadata": {},
   "outputs": [],
   "source": [
    "# Labels that correspond to the order (0 = Nothing, 1 = Rock, ...)\n",
    "label_dic = {'Nothing': 0, 'Rock': 1, 'Paper': 2, 'Scissors': 3, 'Ok': 4}"
   ]
  },
  {
   "cell_type": "markdown",
   "metadata": {},
   "source": [
    "# 2. Loading the Data."
   ]
  },
  {
   "cell_type": "code",
   "execution_count": 9,
   "metadata": {},
   "outputs": [],
   "source": [
    "#data_dir = 'data/data_somos/JAN20/' \n",
    "\n",
    "read_somos_csv = lambda path: pd.read_csv(path, sep=',', names = ['time', 'c0', 'c1', 'c2', 'c3', 'c4', 'c5', 'c6', 'c7', 'label'], skiprows=1)\n",
    "\n",
    "def combine_pd(pattern, data_dir=data_dir):\n",
    "    df = pd.concat([read_somos_csv(x) for x in glob(data_dir + pattern + 'txt')])\n",
    "    df['exp'] = [pattern] * len(df)\n",
    "    return df"
   ]
  },
  {
   "cell_type": "code",
   "execution_count": 10,
   "metadata": {},
   "outputs": [],
   "source": [
    "patterns = ['mg*s1*', 'mg*s2*', 'rr*s1*', 'rr*s2*']"
   ]
  },
  {
   "cell_type": "code",
   "execution_count": 11,
   "metadata": {},
   "outputs": [],
   "source": [
    "data_df = pd.concat([combine_pd(pattern) for pattern in patterns])"
   ]
  },
  {
   "cell_type": "code",
   "execution_count": 12,
   "metadata": {},
   "outputs": [
    {
     "data": {
      "text/html": [
       "<div>\n",
       "<style scoped>\n",
       "    .dataframe tbody tr th:only-of-type {\n",
       "        vertical-align: middle;\n",
       "    }\n",
       "\n",
       "    .dataframe tbody tr th {\n",
       "        vertical-align: top;\n",
       "    }\n",
       "\n",
       "    .dataframe thead th {\n",
       "        text-align: right;\n",
       "    }\n",
       "</style>\n",
       "<table border=\"1\" class=\"dataframe\">\n",
       "  <thead>\n",
       "    <tr style=\"text-align: right;\">\n",
       "      <th></th>\n",
       "      <th>time</th>\n",
       "      <th>c0</th>\n",
       "      <th>c1</th>\n",
       "      <th>c2</th>\n",
       "      <th>c3</th>\n",
       "      <th>c4</th>\n",
       "      <th>c5</th>\n",
       "      <th>c6</th>\n",
       "      <th>c7</th>\n",
       "      <th>label</th>\n",
       "      <th>exp</th>\n",
       "    </tr>\n",
       "  </thead>\n",
       "  <tbody>\n",
       "    <tr>\n",
       "      <th>4558</th>\n",
       "      <td>18477</td>\n",
       "      <td>127</td>\n",
       "      <td>128</td>\n",
       "      <td>127</td>\n",
       "      <td>126</td>\n",
       "      <td>132</td>\n",
       "      <td>127</td>\n",
       "      <td>131</td>\n",
       "      <td>128</td>\n",
       "      <td>0</td>\n",
       "      <td>mg*s1*</td>\n",
       "    </tr>\n",
       "    <tr>\n",
       "      <th>15018</th>\n",
       "      <td>61745</td>\n",
       "      <td>128</td>\n",
       "      <td>127</td>\n",
       "      <td>127</td>\n",
       "      <td>127</td>\n",
       "      <td>128</td>\n",
       "      <td>126</td>\n",
       "      <td>127</td>\n",
       "      <td>128</td>\n",
       "      <td>2</td>\n",
       "      <td>mg*s2*</td>\n",
       "    </tr>\n",
       "    <tr>\n",
       "      <th>21490</th>\n",
       "      <td>88373</td>\n",
       "      <td>128</td>\n",
       "      <td>126</td>\n",
       "      <td>130</td>\n",
       "      <td>129</td>\n",
       "      <td>127</td>\n",
       "      <td>127</td>\n",
       "      <td>128</td>\n",
       "      <td>127</td>\n",
       "      <td>3</td>\n",
       "      <td>rr*s2*</td>\n",
       "    </tr>\n",
       "    <tr>\n",
       "      <th>10</th>\n",
       "      <td>64</td>\n",
       "      <td>121</td>\n",
       "      <td>129</td>\n",
       "      <td>125</td>\n",
       "      <td>128</td>\n",
       "      <td>127</td>\n",
       "      <td>128</td>\n",
       "      <td>128</td>\n",
       "      <td>127</td>\n",
       "      <td>0</td>\n",
       "      <td>mg*s2*</td>\n",
       "    </tr>\n",
       "    <tr>\n",
       "      <th>23761</th>\n",
       "      <td>97367</td>\n",
       "      <td>121</td>\n",
       "      <td>130</td>\n",
       "      <td>129</td>\n",
       "      <td>125</td>\n",
       "      <td>126</td>\n",
       "      <td>127</td>\n",
       "      <td>128</td>\n",
       "      <td>127</td>\n",
       "      <td>3</td>\n",
       "      <td>rr*s2*</td>\n",
       "    </tr>\n",
       "    <tr>\n",
       "      <th>20982</th>\n",
       "      <td>86048</td>\n",
       "      <td>132</td>\n",
       "      <td>121</td>\n",
       "      <td>131</td>\n",
       "      <td>129</td>\n",
       "      <td>126</td>\n",
       "      <td>128</td>\n",
       "      <td>127</td>\n",
       "      <td>125</td>\n",
       "      <td>3</td>\n",
       "      <td>rr*s1*</td>\n",
       "    </tr>\n",
       "    <tr>\n",
       "      <th>18048</th>\n",
       "      <td>74161</td>\n",
       "      <td>124</td>\n",
       "      <td>127</td>\n",
       "      <td>133</td>\n",
       "      <td>129</td>\n",
       "      <td>128</td>\n",
       "      <td>127</td>\n",
       "      <td>127</td>\n",
       "      <td>129</td>\n",
       "      <td>2</td>\n",
       "      <td>mg*s2*</td>\n",
       "    </tr>\n",
       "    <tr>\n",
       "      <th>8811</th>\n",
       "      <td>36390</td>\n",
       "      <td>129</td>\n",
       "      <td>128</td>\n",
       "      <td>127</td>\n",
       "      <td>125</td>\n",
       "      <td>128</td>\n",
       "      <td>128</td>\n",
       "      <td>129</td>\n",
       "      <td>124</td>\n",
       "      <td>1</td>\n",
       "      <td>mg*s1*</td>\n",
       "    </tr>\n",
       "    <tr>\n",
       "      <th>27671</th>\n",
       "      <td>113505</td>\n",
       "      <td>127</td>\n",
       "      <td>128</td>\n",
       "      <td>127</td>\n",
       "      <td>127</td>\n",
       "      <td>129</td>\n",
       "      <td>128</td>\n",
       "      <td>127</td>\n",
       "      <td>127</td>\n",
       "      <td>4</td>\n",
       "      <td>rr*s2*</td>\n",
       "    </tr>\n",
       "    <tr>\n",
       "      <th>20918</th>\n",
       "      <td>85608</td>\n",
       "      <td>126</td>\n",
       "      <td>128</td>\n",
       "      <td>127</td>\n",
       "      <td>125</td>\n",
       "      <td>127</td>\n",
       "      <td>128</td>\n",
       "      <td>128</td>\n",
       "      <td>128</td>\n",
       "      <td>3</td>\n",
       "      <td>rr*s2*</td>\n",
       "    </tr>\n",
       "  </tbody>\n",
       "</table>\n",
       "</div>"
      ],
      "text/plain": [
       "         time   c0   c1   c2   c3   c4   c5   c6   c7  label     exp\n",
       "4558    18477  127  128  127  126  132  127  131  128      0  mg*s1*\n",
       "15018   61745  128  127  127  127  128  126  127  128      2  mg*s2*\n",
       "21490   88373  128  126  130  129  127  127  128  127      3  rr*s2*\n",
       "10         64  121  129  125  128  127  128  128  127      0  mg*s2*\n",
       "23761   97367  121  130  129  125  126  127  128  127      3  rr*s2*\n",
       "20982   86048  132  121  131  129  126  128  127  125      3  rr*s1*\n",
       "18048   74161  124  127  133  129  128  127  127  129      2  mg*s2*\n",
       "8811    36390  129  128  127  125  128  128  129  124      1  mg*s1*\n",
       "27671  113505  127  128  127  127  129  128  127  127      4  rr*s2*\n",
       "20918   85608  126  128  127  125  127  128  128  128      3  rr*s2*"
      ]
     },
     "execution_count": 12,
     "metadata": {},
     "output_type": "execute_result"
    }
   ],
   "source": [
    "data_df.sample(10)"
   ]
  },
  {
   "cell_type": "code",
   "execution_count": 13,
   "metadata": {},
   "outputs": [
    {
     "data": {
      "text/html": [
       "<div>\n",
       "<style scoped>\n",
       "    .dataframe tbody tr th:only-of-type {\n",
       "        vertical-align: middle;\n",
       "    }\n",
       "\n",
       "    .dataframe tbody tr th {\n",
       "        vertical-align: top;\n",
       "    }\n",
       "\n",
       "    .dataframe thead th {\n",
       "        text-align: right;\n",
       "    }\n",
       "</style>\n",
       "<table border=\"1\" class=\"dataframe\">\n",
       "  <thead>\n",
       "    <tr style=\"text-align: right;\">\n",
       "      <th></th>\n",
       "      <th>time</th>\n",
       "      <th>c0</th>\n",
       "      <th>c1</th>\n",
       "      <th>c2</th>\n",
       "      <th>c3</th>\n",
       "      <th>c4</th>\n",
       "      <th>c5</th>\n",
       "      <th>c6</th>\n",
       "      <th>c7</th>\n",
       "      <th>label</th>\n",
       "    </tr>\n",
       "  </thead>\n",
       "  <tbody>\n",
       "    <tr>\n",
       "      <th>count</th>\n",
       "      <td>731682.000000</td>\n",
       "      <td>731682.000000</td>\n",
       "      <td>731682.000000</td>\n",
       "      <td>731682.000000</td>\n",
       "      <td>731682.000000</td>\n",
       "      <td>731682.000000</td>\n",
       "      <td>731682.000000</td>\n",
       "      <td>731682.000000</td>\n",
       "      <td>731682.000000</td>\n",
       "      <td>731682.000000</td>\n",
       "    </tr>\n",
       "    <tr>\n",
       "      <th>mean</th>\n",
       "      <td>62558.191848</td>\n",
       "      <td>127.505144</td>\n",
       "      <td>127.507004</td>\n",
       "      <td>127.506409</td>\n",
       "      <td>127.504250</td>\n",
       "      <td>127.505813</td>\n",
       "      <td>127.506537</td>\n",
       "      <td>127.505465</td>\n",
       "      <td>127.503991</td>\n",
       "      <td>2.001328</td>\n",
       "    </tr>\n",
       "    <tr>\n",
       "      <th>std</th>\n",
       "      <td>36043.299100</td>\n",
       "      <td>3.565628</td>\n",
       "      <td>4.235870</td>\n",
       "      <td>3.714308</td>\n",
       "      <td>2.794727</td>\n",
       "      <td>2.724745</td>\n",
       "      <td>2.384146</td>\n",
       "      <td>2.779323</td>\n",
       "      <td>2.851516</td>\n",
       "      <td>1.413178</td>\n",
       "    </tr>\n",
       "    <tr>\n",
       "      <th>min</th>\n",
       "      <td>4.000000</td>\n",
       "      <td>61.000000</td>\n",
       "      <td>48.000000</td>\n",
       "      <td>27.000000</td>\n",
       "      <td>53.000000</td>\n",
       "      <td>82.000000</td>\n",
       "      <td>54.000000</td>\n",
       "      <td>54.000000</td>\n",
       "      <td>44.000000</td>\n",
       "      <td>0.000000</td>\n",
       "    </tr>\n",
       "    <tr>\n",
       "      <th>25%</th>\n",
       "      <td>31345.000000</td>\n",
       "      <td>126.000000</td>\n",
       "      <td>126.000000</td>\n",
       "      <td>126.000000</td>\n",
       "      <td>126.000000</td>\n",
       "      <td>126.000000</td>\n",
       "      <td>126.000000</td>\n",
       "      <td>126.000000</td>\n",
       "      <td>126.000000</td>\n",
       "      <td>1.000000</td>\n",
       "    </tr>\n",
       "    <tr>\n",
       "      <th>50%</th>\n",
       "      <td>62552.000000</td>\n",
       "      <td>128.000000</td>\n",
       "      <td>128.000000</td>\n",
       "      <td>127.000000</td>\n",
       "      <td>127.000000</td>\n",
       "      <td>128.000000</td>\n",
       "      <td>128.000000</td>\n",
       "      <td>128.000000</td>\n",
       "      <td>128.000000</td>\n",
       "      <td>2.000000</td>\n",
       "    </tr>\n",
       "    <tr>\n",
       "      <th>75%</th>\n",
       "      <td>93800.750000</td>\n",
       "      <td>129.000000</td>\n",
       "      <td>129.000000</td>\n",
       "      <td>129.000000</td>\n",
       "      <td>129.000000</td>\n",
       "      <td>129.000000</td>\n",
       "      <td>129.000000</td>\n",
       "      <td>129.000000</td>\n",
       "      <td>129.000000</td>\n",
       "      <td>3.000000</td>\n",
       "    </tr>\n",
       "    <tr>\n",
       "      <th>max</th>\n",
       "      <td>125014.000000</td>\n",
       "      <td>190.000000</td>\n",
       "      <td>245.000000</td>\n",
       "      <td>193.000000</td>\n",
       "      <td>194.000000</td>\n",
       "      <td>217.000000</td>\n",
       "      <td>210.000000</td>\n",
       "      <td>191.000000</td>\n",
       "      <td>249.000000</td>\n",
       "      <td>4.000000</td>\n",
       "    </tr>\n",
       "  </tbody>\n",
       "</table>\n",
       "</div>"
      ],
      "text/plain": [
       "                time             c0             c1             c2  \\\n",
       "count  731682.000000  731682.000000  731682.000000  731682.000000   \n",
       "mean    62558.191848     127.505144     127.507004     127.506409   \n",
       "std     36043.299100       3.565628       4.235870       3.714308   \n",
       "min         4.000000      61.000000      48.000000      27.000000   \n",
       "25%     31345.000000     126.000000     126.000000     126.000000   \n",
       "50%     62552.000000     128.000000     128.000000     127.000000   \n",
       "75%     93800.750000     129.000000     129.000000     129.000000   \n",
       "max    125014.000000     190.000000     245.000000     193.000000   \n",
       "\n",
       "                  c3             c4             c5             c6  \\\n",
       "count  731682.000000  731682.000000  731682.000000  731682.000000   \n",
       "mean      127.504250     127.505813     127.506537     127.505465   \n",
       "std         2.794727       2.724745       2.384146       2.779323   \n",
       "min        53.000000      82.000000      54.000000      54.000000   \n",
       "25%       126.000000     126.000000     126.000000     126.000000   \n",
       "50%       127.000000     128.000000     128.000000     128.000000   \n",
       "75%       129.000000     129.000000     129.000000     129.000000   \n",
       "max       194.000000     217.000000     210.000000     191.000000   \n",
       "\n",
       "                  c7          label  \n",
       "count  731682.000000  731682.000000  \n",
       "mean      127.503991       2.001328  \n",
       "std         2.851516       1.413178  \n",
       "min        44.000000       0.000000  \n",
       "25%       126.000000       1.000000  \n",
       "50%       128.000000       2.000000  \n",
       "75%       129.000000       3.000000  \n",
       "max       249.000000       4.000000  "
      ]
     },
     "execution_count": 13,
     "metadata": {},
     "output_type": "execute_result"
    }
   ],
   "source": [
    "data_df.describe()"
   ]
  },
  {
   "cell_type": "markdown",
   "metadata": {},
   "source": [
    "# 3. Pre-processing of the data"
   ]
  },
  {
   "cell_type": "markdown",
   "metadata": {},
   "source": [
    "## 3.0 Giving same labels sign map as in Kaggle"
   ]
  },
  {
   "cell_type": "code",
   "execution_count": 14,
   "metadata": {},
   "outputs": [],
   "source": [
    "labels = data_df.label.values"
   ]
  },
  {
   "cell_type": "code",
   "execution_count": 15,
   "metadata": {},
   "outputs": [],
   "source": [
    "# Changing the resting state 0 into -1\n",
    "tmp = np.where(labels==0, -1, labels)\n",
    "# Changing the Rock 1 in Rock 0\n",
    "tmp = np.where(tmp==1, 0, tmp)\n",
    "# Changing the Scissor 3 in Scissors 1\n",
    "tmp = np.where(tmp==3, 1, tmp)\n",
    "# Changing the Ok 4 in OK 3\n",
    "labels = np.where(tmp==4, 3, tmp)"
   ]
  },
  {
   "cell_type": "code",
   "execution_count": 16,
   "metadata": {},
   "outputs": [],
   "source": [
    "data_df.label = labels"
   ]
  },
  {
   "cell_type": "markdown",
   "metadata": {},
   "source": [
    "For now let's remove the 'rest' sign (to have a better comparison with the MYO), but we can look at it later."
   ]
  },
  {
   "cell_type": "code",
   "execution_count": 17,
   "metadata": {},
   "outputs": [],
   "source": [
    "data_df = data_df[data_df.label != -1]"
   ]
  },
  {
   "cell_type": "markdown",
   "metadata": {},
   "source": [
    "There is two possibilities for the organization of the data:\n",
    "- Batching: reorganization \"kaggle style\" (t0_sensor0, ..., t0_sensor8, t1_sensor0, ..., t1_sensor8, ..., t8_sensor8).\n",
    "- Keep only one time step per row (as it is already)."
   ]
  },
  {
   "cell_type": "markdown",
   "metadata": {},
   "source": [
    "## 3.1 Batching"
   ]
  },
  {
   "cell_type": "markdown",
   "metadata": {},
   "source": [
    "Let's organize the data in samples where one sample corresponds to 10 acquisitions at ~250Hz so one sample is ~40ms"
   ]
  },
  {
   "cell_type": "code",
   "execution_count": 18,
   "metadata": {},
   "outputs": [
    {
     "data": {
      "text/plain": [
       "(585888, 11)"
      ]
     },
     "execution_count": 18,
     "metadata": {},
     "output_type": "execute_result"
    }
   ],
   "source": [
    "data_df.shape"
   ]
  },
  {
   "cell_type": "code",
   "execution_count": 19,
   "metadata": {},
   "outputs": [],
   "source": [
    "start_sign = np.where(np.diff(data_df.label) != 0)[0]\n",
    "end_sign = np.append(start_sign[1:], len(data_df)) - 1000\n",
    "start_sign += 1000"
   ]
  },
  {
   "cell_type": "markdown",
   "metadata": {},
   "source": [
    "We have 24 files with 5 signs each (including rest) so we should have 5 * 24 - 1 = 119 changes of sign, or 4 * 24 - 1 = 95 (in case with no rest)"
   ]
  },
  {
   "cell_type": "code",
   "execution_count": 20,
   "metadata": {},
   "outputs": [
    {
     "data": {
      "text/plain": [
       "95"
      ]
     },
     "execution_count": 20,
     "metadata": {},
     "output_type": "execute_result"
    }
   ],
   "source": [
    "len(start_sign)"
   ]
  },
  {
   "cell_type": "markdown",
   "metadata": {},
   "source": [
    "Batching the data so that a sample is defined similarly than in the kaggle competition with multiple time step for each channel (t0_c0, t0_c1, ..., t1_c0, t1_c1, ...) \n",
    "\n",
    "This step can take a bit of time (~30s)"
   ]
  },
  {
   "cell_type": "code",
   "execution_count": 21,
   "metadata": {},
   "outputs": [],
   "source": [
    "emg_list = []\n",
    "label_list = []\n",
    "exp_list = []\n",
    "for j in range(len(start_sign)):\n",
    "    batchs = range(start_sign[j], end_sign[j] - N_STEPS, N_STEPS)\n",
    "    #print(batchs)\n",
    "    emg_list.append([data_df.iloc[i: i+N_STEPS, 1: -2].values.flatten() for i in batchs])\n",
    "    # Similarly to the kaggle data let's create samples of 10 time steps of 8 channel: t0_sensor0, t0_sensor1, ..., t10_sensor0, ..., t10_sensor8.\n",
    "    label_list.append([data_df.iloc[i, -2] for i in batchs])\n",
    "    # Similarly to the kaggle data let's create samples of 10 time steps of 8 channel: t0_sensor0, t0_sensor1, ..., t10_sensor0, ..., t10_sensor8.\n",
    "    exp_list.append([data_df.iloc[i, -1] for i in batchs])\n",
    "emg = np.concatenate(emg_list)\n",
    "labels = np.hstack(label_list)\n",
    "exps = np.hstack(exp_list)"
   ]
  },
  {
   "cell_type": "code",
   "execution_count": 22,
   "metadata": {},
   "outputs": [
    {
     "data": {
      "text/plain": [
       "(3856, 800)"
      ]
     },
     "execution_count": 22,
     "metadata": {},
     "output_type": "execute_result"
    }
   ],
   "source": [
    "emg.shape"
   ]
  },
  {
   "cell_type": "markdown",
   "metadata": {},
   "source": [
    "### 3.2 Separation in 4 datasets (2 sessions for 2 users)"
   ]
  },
  {
   "cell_type": "code",
   "execution_count": 23,
   "metadata": {},
   "outputs": [
    {
     "data": {
      "text/plain": [
       "3856"
      ]
     },
     "execution_count": 23,
     "metadata": {},
     "output_type": "execute_result"
    }
   ],
   "source": [
    "len(exps)"
   ]
  },
  {
   "cell_type": "markdown",
   "metadata": {},
   "source": [
    "data_per_exp = {}\n",
    "for exp_name in patterns:\n",
    "    idx_exp = np.where(exps==exp_name)[0]\n",
    "    data_per_exp[exp_name] = {'raw': emg[idx_exp], 'labels': labels[idx_exp]}\n",
    "    print(len(emg[idx_exp]))"
   ]
  },
  {
   "cell_type": "code",
   "execution_count": 24,
   "metadata": {},
   "outputs": [
    {
     "name": "stdout",
     "output_type": "stream",
     "text": [
      "931\n",
      "978\n",
      "973\n",
      "974\n"
     ]
    }
   ],
   "source": [
    "if 'data.pickle' in os.listdir():\n",
    "    with open('data.pickle', 'rb') as handle:\n",
    "        data_per_exp = pickle.load(handle)\n",
    "else:\n",
    "    data_per_exp = {}\n",
    "    for exp_name in patterns:\n",
    "        idx_exp = np.where(exps==exp_name)[0]\n",
    "        data_per_exp[exp_name] = {'raw': np.float_(emg[idx_exp]), 'labels': labels[idx_exp]}\n",
    "        print(len(emg[idx_exp]))"
   ]
  },
  {
   "cell_type": "markdown",
   "metadata": {},
   "source": [
    "# 4. Model on each dataset separately"
   ]
  },
  {
   "cell_type": "code",
   "execution_count": 25,
   "metadata": {},
   "outputs": [],
   "source": [
    "result_intra = {}"
   ]
  },
  {
   "cell_type": "markdown",
   "metadata": {},
   "source": [
    "In this section, we are just using each dataset separately to both fit and evaluate different models. That gives an idea of the best-case scenario (when the user tries the wrist band just after having calibrating it)"
   ]
  },
  {
   "cell_type": "code",
   "execution_count": 26,
   "metadata": {},
   "outputs": [],
   "source": [
    "k_fold = StratifiedKFold(n_splits=N_SPLIT, shuffle=True, random_state=7)"
   ]
  },
  {
   "cell_type": "code",
   "execution_count": 27,
   "metadata": {},
   "outputs": [
    {
     "data": {
      "image/png": "[encoded data removed]",
      "text/plain": [
       "<Figure size 432x288 with 1 Axes>"
      ]
     },
     "metadata": {
      "needs_background": "light"
     },
     "output_type": "display_data"
    },
    {
     "data": {
      "image/png": "[encoded data removed]",
      "text/plain": [
       "<Figure size 432x288 with 1 Axes>"
      ]
     },
     "metadata": {
      "needs_background": "light"
     },
     "output_type": "display_data"
    },
    {
     "data": {
      "image/png": "[encoded data removed]",
      "text/plain": [
       "<Figure size 432x288 with 1 Axes>"
      ]
     },
     "metadata": {
      "needs_background": "light"
     },
     "output_type": "display_data"
    }
   ],
   "source": [
    "X = data_per_exp['mg*s1*']['raw']\n",
    "y = data_per_exp['mg*s1*']['labels']\n",
    "for train_indices, test_indices in k_fold.split(X, y):\n",
    "    plt.figure()\n",
    "    sns.distplot(y[train_indices])\n",
    "    sns.distplot(y[test_indices])"
   ]
  },
  {
   "cell_type": "markdown",
   "metadata": {},
   "source": [
    "The plots above confirm that the 4 signs are equally represented in our 3 splits."
   ]
  },
  {
   "cell_type": "markdown",
   "metadata": {},
   "source": [
    "Storing the accuracy and time results in a dictionary"
   ]
  },
  {
   "cell_type": "markdown",
   "metadata": {},
   "source": [
    "## 4.1 Using the Row Data"
   ]
  },
  {
   "cell_type": "markdown",
   "metadata": {},
   "source": [
    "This is if we were to use the models directly on the N_channels x N_time_steps features of a sample. Here it is very important to scale the data, as the signal sent from the FPGA has a very big biais relatively to the signal energy."
   ]
  },
  {
   "cell_type": "markdown",
   "metadata": {},
   "source": [
    "### 4.1.0 Naive Model"
   ]
  },
  {
   "cell_type": "markdown",
   "metadata": {},
   "source": [
    "This random model is used to see what accuracy we would get by guessing randomly what sample corresponds to what sign. In average, we should have 25% accuracy if we have 4 signs and 20% accuracy if we have 5 signs."
   ]
  },
  {
   "cell_type": "code",
   "execution_count": 28,
   "metadata": {},
   "outputs": [],
   "source": [
    "class ChanceDetector():\n",
    "    \"\"\"Just a random number generator.\n",
    "    \"\"\"\n",
    "    def __init__(self, n_class):\n",
    "        self.n_class = 4\n",
    "\n",
    "    def fit(self, X_train, y_train):\n",
    "        return None\n",
    "    \n",
    "    def predict(self, X_test):\n",
    "        lx = len(X_test)\n",
    "        return np.random.randint(0, self.n_class, lx)"
   ]
  },
  {
   "cell_type": "code",
   "execution_count": 29,
   "metadata": {},
   "outputs": [],
   "source": [
    "estimators = []\n",
    "estimators.append(('standardize', StandardScaler()))\n",
    "estimators.append(('naive',  ChanceDetector(4)))\n",
    "pipeline_naive = Pipeline(estimators)"
   ]
  },
  {
   "cell_type": "code",
   "execution_count": 30,
   "metadata": {},
   "outputs": [
    {
     "name": "stdout",
     "output_type": "stream",
     "text": [
      "mg*s1* [0.27564102564102566, 0.2161290322580645, 0.24271844660194175] 0.24482950150034397\n",
      "mg*s2* [0.2347560975609756, 0.30153846153846153, 0.27076923076923076] 0.26902126328955595\n",
      "rr*s1* [0.24233128834355827, 0.24074074074074073, 0.21362229102167182] 0.23223144003532362\n",
      "rr*s2* [0.24539877300613497, 0.24691358024691357, 0.2191358024691358] 0.23714938524072812\n"
     ]
    }
   ],
   "source": [
    "result_intra = hf.record_results_kfold(data_per_exp, result_intra, model=pipeline_naive, kfold=k_fold, key_result='naive_raw', key_data='raw')"
   ]
  },
  {
   "cell_type": "markdown",
   "metadata": {},
   "source": [
    "As expected we have scores around 25% using the naive model on each dataset."
   ]
  },
  {
   "cell_type": "markdown",
   "metadata": {},
   "source": [
    "### 4.1.1 With Logistic Regression"
   ]
  },
  {
   "cell_type": "code",
   "execution_count": 31,
   "metadata": {},
   "outputs": [],
   "source": [
    "estimators = []\n",
    "estimators.append(('standardize', StandardScaler()))\n",
    "estimators.append(('lr', LogisticRegression(solver='lbfgs', multi_class='multinomial')))\n",
    "pipeline_lr = Pipeline(estimators)"
   ]
  },
  {
   "cell_type": "code",
   "execution_count": 32,
   "metadata": {},
   "outputs": [
    {
     "name": "stdout",
     "output_type": "stream",
     "text": [
      "mg*s1* [0.25961538461538464, 0.26129032258064516, 0.2168284789644013] 0.24591139538681037\n",
      "mg*s2* [0.25609756097560976, 0.28615384615384615, 0.2523076923076923] 0.2648530331457161\n",
      "rr*s1* [0.27607361963190186, 0.24691358024691357, 0.25386996904024767] 0.2589523896396877\n",
      "rr*s2* [0.25153374233128833, 0.29012345679012347, 0.2808641975308642] 0.27417379888409205\n"
     ]
    }
   ],
   "source": [
    "result_intra = hf.record_results_kfold(data_per_exp, result_intra, model=pipeline_lr, kfold=k_fold, key_result='lr_raw', key_data='raw')"
   ]
  },
  {
   "cell_type": "markdown",
   "metadata": {},
   "source": [
    "Barely above chance level"
   ]
  },
  {
   "cell_type": "markdown",
   "metadata": {},
   "source": [
    "### 4.1.2. With DNN"
   ]
  },
  {
   "cell_type": "code",
   "execution_count": 33,
   "metadata": {},
   "outputs": [],
   "source": [
    "def create_model(weights='initial_weights.hd5', n_features=800):\n",
    "    \"\"\"Function to create model, required for using KerasClassifier and wrapp a Keras modeol inside a \n",
    "    scikitlearn form.\n",
    "    We added a weight saving/loading to remove the randomness of the weight initialization (for better comparison)\n",
    "    \"\"\"\n",
    "    model = tf.keras.models.Sequential([\n",
    "    tf.keras.layers.Dense(34, activation='relu', input_shape=(n_features,)),\n",
    "    tf.keras.layers.Dense(17, activation='relu'),\n",
    "    tf.keras.layers.Dropout(0.2),\n",
    "    tf.keras.layers.Dense(4, activation='softmax'),\n",
    "])\n",
    "    \n",
    "    model.compile(loss = 'sparse_categorical_crossentropy', optimizer='rmsprop', metrics=['accuracy'])\n",
    "    if weights is None:\n",
    "        model.save_weights('initial_weights.hd5')\n",
    "    else:\n",
    "        model.load_weights(weights)\n",
    "    return model"
   ]
  },
  {
   "cell_type": "code",
   "execution_count": 34,
   "metadata": {},
   "outputs": [
    {
     "name": "stderr",
     "output_type": "stream",
     "text": [
      "WARNING: Logging before flag parsing goes to stderr.\n",
      "W0602 21:44:18.898374 140088530409216 deprecation.py:506] From /home/marius/miniconda3/envs/stats/lib/python3.7/site-packages/tensorflow/python/ops/init_ops.py:1251: calling VarianceScaling.__init__ (from tensorflow.python.ops.init_ops) with dtype is deprecated and will be removed in a future version.\n",
      "Instructions for updating:\n",
      "Call initializer instance with the dtype argument instead of passing it to the constructor\n"
     ]
    }
   ],
   "source": [
    "generate_weights = create_model(weights=None)"
   ]
  },
  {
   "cell_type": "code",
   "execution_count": 35,
   "metadata": {},
   "outputs": [],
   "source": [
    "estimators = []\n",
    "estimators.append(('standardize', StandardScaler()))\n",
    "estimators.append(('dnn', KerasClassifier(build_fn=create_model, epochs=100, verbose=0)))\n",
    "pipeline_dnn = Pipeline(estimators)"
   ]
  },
  {
   "cell_type": "code",
   "execution_count": 36,
   "metadata": {},
   "outputs": [
    {
     "name": "stdout",
     "output_type": "stream",
     "text": [
      "mg*s1* [0.30448717948717946, 0.2967741935483871, 0.24919093851132687] 0.28348410384896444\n",
      "mg*s2* [0.25914634146341464, 0.28307692307692306, 0.30153846153846153] 0.2812539086929331\n",
      "rr*s1* [0.32515337423312884, 0.28703703703703703, 0.29411764705882354] 0.3021026861096632\n",
      "rr*s2* [0.2791411042944785, 0.2654320987654321, 0.2993827160493827] 0.2813186397030978\n"
     ]
    }
   ],
   "source": [
    "result_intra = hf.record_results_kfold(data_per_exp, result_intra, model=pipeline_dnn, kfold=k_fold, key_result='dnn_raw', key_data='raw')"
   ]
  },
  {
   "cell_type": "markdown",
   "metadata": {},
   "source": [
    "## 4.2 Using Covariances"
   ]
  },
  {
   "cell_type": "markdown",
   "metadata": {},
   "source": [
    "Just as for EEG, most of the information should be contains in the covariance matrix of each sample.\n",
    "For 8 channels and 10 time steps sample, this matrix will have dimension 8x8"
   ]
  },
  {
   "cell_type": "code",
   "execution_count": 37,
   "metadata": {},
   "outputs": [
    {
     "data": {
      "text/html": [
       "<div>\n",
       "<style scoped>\n",
       "    .dataframe tbody tr th:only-of-type {\n",
       "        vertical-align: middle;\n",
       "    }\n",
       "\n",
       "    .dataframe tbody tr th {\n",
       "        vertical-align: top;\n",
       "    }\n",
       "\n",
       "    .dataframe thead th {\n",
       "        text-align: right;\n",
       "    }\n",
       "</style>\n",
       "<table border=\"1\" class=\"dataframe\">\n",
       "  <thead>\n",
       "    <tr style=\"text-align: right;\">\n",
       "      <th></th>\n",
       "      <th>time</th>\n",
       "      <th>c0</th>\n",
       "      <th>c1</th>\n",
       "      <th>c2</th>\n",
       "      <th>c3</th>\n",
       "      <th>c4</th>\n",
       "      <th>c5</th>\n",
       "      <th>c6</th>\n",
       "      <th>c7</th>\n",
       "      <th>label</th>\n",
       "      <th>exp</th>\n",
       "    </tr>\n",
       "  </thead>\n",
       "  <tbody>\n",
       "    <tr>\n",
       "      <th>13206</th>\n",
       "      <td>54156</td>\n",
       "      <td>123</td>\n",
       "      <td>127</td>\n",
       "      <td>127</td>\n",
       "      <td>128</td>\n",
       "      <td>127</td>\n",
       "      <td>128</td>\n",
       "      <td>127</td>\n",
       "      <td>127</td>\n",
       "      <td>2</td>\n",
       "      <td>mg*s1*</td>\n",
       "    </tr>\n",
       "    <tr>\n",
       "      <th>13207</th>\n",
       "      <td>54159</td>\n",
       "      <td>127</td>\n",
       "      <td>129</td>\n",
       "      <td>126</td>\n",
       "      <td>126</td>\n",
       "      <td>127</td>\n",
       "      <td>127</td>\n",
       "      <td>128</td>\n",
       "      <td>128</td>\n",
       "      <td>2</td>\n",
       "      <td>mg*s1*</td>\n",
       "    </tr>\n",
       "    <tr>\n",
       "      <th>13208</th>\n",
       "      <td>54162</td>\n",
       "      <td>132</td>\n",
       "      <td>124</td>\n",
       "      <td>123</td>\n",
       "      <td>126</td>\n",
       "      <td>128</td>\n",
       "      <td>127</td>\n",
       "      <td>129</td>\n",
       "      <td>123</td>\n",
       "      <td>2</td>\n",
       "      <td>mg*s1*</td>\n",
       "    </tr>\n",
       "    <tr>\n",
       "      <th>13209</th>\n",
       "      <td>54166</td>\n",
       "      <td>129</td>\n",
       "      <td>131</td>\n",
       "      <td>131</td>\n",
       "      <td>126</td>\n",
       "      <td>127</td>\n",
       "      <td>128</td>\n",
       "      <td>130</td>\n",
       "      <td>119</td>\n",
       "      <td>2</td>\n",
       "      <td>mg*s1*</td>\n",
       "    </tr>\n",
       "    <tr>\n",
       "      <th>13210</th>\n",
       "      <td>54169</td>\n",
       "      <td>124</td>\n",
       "      <td>130</td>\n",
       "      <td>130</td>\n",
       "      <td>136</td>\n",
       "      <td>124</td>\n",
       "      <td>128</td>\n",
       "      <td>134</td>\n",
       "      <td>123</td>\n",
       "      <td>2</td>\n",
       "      <td>mg*s1*</td>\n",
       "    </tr>\n",
       "    <tr>\n",
       "      <th>13211</th>\n",
       "      <td>54172</td>\n",
       "      <td>126</td>\n",
       "      <td>131</td>\n",
       "      <td>129</td>\n",
       "      <td>121</td>\n",
       "      <td>128</td>\n",
       "      <td>130</td>\n",
       "      <td>128</td>\n",
       "      <td>134</td>\n",
       "      <td>2</td>\n",
       "      <td>mg*s1*</td>\n",
       "    </tr>\n",
       "    <tr>\n",
       "      <th>13212</th>\n",
       "      <td>54176</td>\n",
       "      <td>131</td>\n",
       "      <td>131</td>\n",
       "      <td>127</td>\n",
       "      <td>125</td>\n",
       "      <td>127</td>\n",
       "      <td>131</td>\n",
       "      <td>121</td>\n",
       "      <td>135</td>\n",
       "      <td>2</td>\n",
       "      <td>mg*s1*</td>\n",
       "    </tr>\n",
       "    <tr>\n",
       "      <th>13213</th>\n",
       "      <td>54178</td>\n",
       "      <td>125</td>\n",
       "      <td>130</td>\n",
       "      <td>132</td>\n",
       "      <td>122</td>\n",
       "      <td>128</td>\n",
       "      <td>128</td>\n",
       "      <td>127</td>\n",
       "      <td>130</td>\n",
       "      <td>2</td>\n",
       "      <td>mg*s1*</td>\n",
       "    </tr>\n",
       "    <tr>\n",
       "      <th>13214</th>\n",
       "      <td>54181</td>\n",
       "      <td>124</td>\n",
       "      <td>128</td>\n",
       "      <td>130</td>\n",
       "      <td>122</td>\n",
       "      <td>128</td>\n",
       "      <td>131</td>\n",
       "      <td>130</td>\n",
       "      <td>126</td>\n",
       "      <td>2</td>\n",
       "      <td>mg*s1*</td>\n",
       "    </tr>\n",
       "    <tr>\n",
       "      <th>13215</th>\n",
       "      <td>54185</td>\n",
       "      <td>129</td>\n",
       "      <td>127</td>\n",
       "      <td>123</td>\n",
       "      <td>125</td>\n",
       "      <td>129</td>\n",
       "      <td>129</td>\n",
       "      <td>131</td>\n",
       "      <td>131</td>\n",
       "      <td>2</td>\n",
       "      <td>mg*s1*</td>\n",
       "    </tr>\n",
       "  </tbody>\n",
       "</table>\n",
       "</div>"
      ],
      "text/plain": [
       "        time   c0   c1   c2   c3   c4   c5   c6   c7  label     exp\n",
       "13206  54156  123  127  127  128  127  128  127  127      2  mg*s1*\n",
       "13207  54159  127  129  126  126  127  127  128  128      2  mg*s1*\n",
       "13208  54162  132  124  123  126  128  127  129  123      2  mg*s1*\n",
       "13209  54166  129  131  131  126  127  128  130  119      2  mg*s1*\n",
       "13210  54169  124  130  130  136  124  128  134  123      2  mg*s1*\n",
       "13211  54172  126  131  129  121  128  130  128  134      2  mg*s1*\n",
       "13212  54176  131  131  127  125  127  131  121  135      2  mg*s1*\n",
       "13213  54178  125  130  132  122  128  128  127  130      2  mg*s1*\n",
       "13214  54181  124  128  130  122  128  131  130  126      2  mg*s1*\n",
       "13215  54185  129  127  123  125  129  129  131  131      2  mg*s1*"
      ]
     },
     "execution_count": 37,
     "metadata": {},
     "output_type": "execute_result"
    }
   ],
   "source": [
    "i = start_sign[0]\n",
    "data_df.iloc[i: i+10]"
   ]
  },
  {
   "cell_type": "code",
   "execution_count": 38,
   "metadata": {},
   "outputs": [],
   "source": [
    "if 'cov.pickle' in os.listdir():\n",
    "    with open('cov.pickle', 'rb') as handle:\n",
    "        data_per_exp = pickle.load(handle)\n",
    "else:\n",
    "    for key, data in data_per_exp.items():\n",
    "        # X: your EEG data, in format Ntrials x Nchannels X Nsamples\n",
    "        emg_rows = data['raw']\n",
    "        X = np.array([x.reshape(N_STEPS, 8).transpose() for x in emg_rows])\n",
    "        cov = pyriemann.estimation.Covariances(estimator='lwf').fit_transform(X)\n",
    "        covec = np.array([hf.vectorize_cov(cov_mat) for cov_mat in cov])\n",
    "        var = np.array([cov_mat.diagonal() for cov_mat in cov])\n",
    "        y = data['labels']\n",
    "        data['matrix'] = X\n",
    "        data['cov'] = cov\n",
    "        data['covec'] = covec\n",
    "        data['var'] = var\n",
    "    with open('cov.pickle', 'wb') as handle:\n",
    "        pickle.dump(data_per_exp, handle)"
   ]
  },
  {
   "cell_type": "code",
   "execution_count": 39,
   "metadata": {},
   "outputs": [
    {
     "data": {
      "text/plain": [
       "(931, 8, 100)"
      ]
     },
     "execution_count": 39,
     "metadata": {},
     "output_type": "execute_result"
    }
   ],
   "source": [
    "data_per_exp['mg*s1*']['matrix'].shape"
   ]
  },
  {
   "cell_type": "code",
   "execution_count": 40,
   "metadata": {},
   "outputs": [
    {
     "data": {
      "text/plain": [
       "(931, 8)"
      ]
     },
     "execution_count": 40,
     "metadata": {},
     "output_type": "execute_result"
    }
   ],
   "source": [
    "data_per_exp['mg*s1*']['var'].shape"
   ]
  },
  {
   "cell_type": "code",
   "execution_count": 41,
   "metadata": {},
   "outputs": [
    {
     "data": {
      "text/plain": [
       "(931, 36)"
      ]
     },
     "execution_count": 41,
     "metadata": {},
     "output_type": "execute_result"
    }
   ],
   "source": [
    "data_per_exp['mg*s1*']['covec'].shape"
   ]
  },
  {
   "cell_type": "code",
   "execution_count": 42,
   "metadata": {},
   "outputs": [
    {
     "data": {
      "text/plain": [
       "(931, 8, 8)"
      ]
     },
     "execution_count": 42,
     "metadata": {},
     "output_type": "execute_result"
    }
   ],
   "source": [
    "data_per_exp['mg*s1*']['cov'].shape"
   ]
  },
  {
   "cell_type": "markdown",
   "metadata": {},
   "source": [
    "### 4.2.1 Logistic Regression on Variance"
   ]
  },
  {
   "cell_type": "code",
   "execution_count": 43,
   "metadata": {},
   "outputs": [],
   "source": [
    "estimators = []\n",
    "estimators.append(('standardize', StandardScaler()))\n",
    "estimators.append(('lr', LogisticRegression(solver='lbfgs', multi_class='multinomial')))\n",
    "pipeline_lr = Pipeline(estimators)"
   ]
  },
  {
   "cell_type": "code",
   "execution_count": 44,
   "metadata": {},
   "outputs": [
    {
     "name": "stdout",
     "output_type": "stream",
     "text": [
      "mg*s1* [0.967948717948718, 0.9838709677419355, 0.9676375404530745] 0.9731524087145761\n",
      "mg*s2* [0.9847560975609756, 0.9723076923076923, 0.9692307692307692] 0.9754315196998125\n",
      "rr*s1* [0.9846625766871165, 0.9907407407407407, 0.9845201238390093] 0.9866411470889555\n",
      "rr*s2* [0.9846625766871165, 0.9660493827160493, 0.9537037037037037] 0.9681385543689566\n"
     ]
    }
   ],
   "source": [
    "result_intra = hf.record_results_kfold(data_per_exp, result_intra, model=pipeline_lr, kfold=k_fold, key_result='logreg_var', key_data='var')"
   ]
  },
  {
   "cell_type": "markdown",
   "metadata": {},
   "source": [
    "Way better results than everything else we tried so far!"
   ]
  },
  {
   "cell_type": "markdown",
   "metadata": {},
   "source": [
    "### 4.2.2 DNN on Variance"
   ]
  },
  {
   "cell_type": "code",
   "execution_count": 45,
   "metadata": {},
   "outputs": [],
   "source": [
    "def create_model_variance(weights='initial_weights.hd5'):\n",
    "    return create_model(weights=weights, n_features=8)"
   ]
  },
  {
   "cell_type": "code",
   "execution_count": 46,
   "metadata": {},
   "outputs": [],
   "source": [
    "generate_weights = create_model_variance(weights=None)"
   ]
  },
  {
   "cell_type": "code",
   "execution_count": 47,
   "metadata": {},
   "outputs": [],
   "source": [
    "estimators = []\n",
    "estimators.append(('standardize', StandardScaler()))\n",
    "estimators.append(('dnn', KerasClassifier(build_fn=create_model_variance, epochs=100, verbose=0)))\n",
    "pipeline_dnn = Pipeline(estimators)"
   ]
  },
  {
   "cell_type": "code",
   "execution_count": 48,
   "metadata": {},
   "outputs": [
    {
     "name": "stdout",
     "output_type": "stream",
     "text": [
      "mg*s1* [0.9871794871794872, 0.9903225806451613, 0.9805825242718447] 0.9860281973654977\n",
      "mg*s2* [0.9939024390243902, 0.9907692307692307, 0.9907692307692307] 0.9918136335209505\n",
      "rr*s1* [0.9846625766871165, 0.9845679012345679, 0.9907120743034056] 0.9866475174083633\n",
      "rr*s2* [0.9938650306748467, 0.9722222222222222, 0.9629629629629629] 0.9763500719533439\n"
     ]
    }
   ],
   "source": [
    "result_intra = hf.record_results_kfold(data_per_exp, result_intra, model=pipeline_dnn, kfold=k_fold, key_result='dnn_var', key_data='var')"
   ]
  },
  {
   "cell_type": "markdown",
   "metadata": {},
   "source": [
    "Let's try to add all covariances elements to see if we gain in accuracy."
   ]
  },
  {
   "cell_type": "markdown",
   "metadata": {},
   "source": [
    "### 4.2.3 Log Reg on covariance Matrix"
   ]
  },
  {
   "cell_type": "code",
   "execution_count": 49,
   "metadata": {},
   "outputs": [],
   "source": [
    "estimators = []\n",
    "estimators.append(('standardize', StandardScaler()))\n",
    "estimators.append(('lr', LogisticRegression(solver='lbfgs', multi_class='multinomial')))\n",
    "pipeline_logreg = Pipeline(estimators)"
   ]
  },
  {
   "cell_type": "code",
   "execution_count": 50,
   "metadata": {},
   "outputs": [
    {
     "name": "stdout",
     "output_type": "stream",
     "text": [
      "mg*s1* [0.9743589743589743, 0.9806451612903225, 0.970873786407767] 0.975292640685688\n",
      "mg*s2* [0.9664634146341463, 0.9569230769230769, 0.9323076923076923] 0.9518980612883051\n",
      "rr*s1* [0.9846625766871165, 0.9876543209876543, 0.978328173374613] 0.9835483570164613\n",
      "rr*s2* [0.9846625766871165, 0.9629629629629629, 0.9475308641975309] 0.9650521346158701\n"
     ]
    }
   ],
   "source": [
    "result_intra = hf.record_results_kfold(data_per_exp, result_intra, model=pipeline_logreg, kfold=k_fold, key_result='logreg_covec', key_data='covec')"
   ]
  },
  {
   "cell_type": "markdown",
   "metadata": {},
   "source": [
    "### 4.2.4 DNN on covariance Matrix"
   ]
  },
  {
   "cell_type": "code",
   "execution_count": 51,
   "metadata": {},
   "outputs": [],
   "source": [
    "# Function to create model, required for KerasClassifier\n",
    "def create_model_covariance(weights='initial_weights.hd5'):\n",
    "    return create_model(weights=weights, n_features=36)\n",
    "generate_weights = create_model_covariance(weights=None)"
   ]
  },
  {
   "cell_type": "code",
   "execution_count": 52,
   "metadata": {},
   "outputs": [],
   "source": [
    "estimators = []\n",
    "estimators.append(('standardize', StandardScaler()))\n",
    "estimators.append(('dnn', KerasClassifier(build_fn=create_model_covariance, epochs=100, verbose=0)))\n",
    "pipeline_dnn = Pipeline(estimators)"
   ]
  },
  {
   "cell_type": "code",
   "execution_count": 53,
   "metadata": {},
   "outputs": [
    {
     "name": "stdout",
     "output_type": "stream",
     "text": [
      "mg*s1* [0.9807692307692307, 0.9967741935483871, 0.9838187702265372] 0.9871207315147182\n",
      "mg*s2* [0.9725609756097561, 0.96, 0.9692307692307692] 0.9672639149468418\n",
      "rr*s1* [0.9815950920245399, 0.9907407407407407, 0.9845201238390093] 0.98561865220143\n",
      "rr*s2* [0.9877300613496932, 0.9537037037037037, 0.9444444444444444] 0.9619594031659471\n"
     ]
    }
   ],
   "source": [
    "result_intra = hf.record_results_kfold(data_per_exp, result_intra, model=pipeline_dnn, kfold=k_fold, key_result='dnn_covec', key_data='covec')"
   ]
  },
  {
   "cell_type": "markdown",
   "metadata": {},
   "source": [
    "(I also ran it with unscaled data and it doesn't seem to change much here as the covariance are already scaled)"
   ]
  },
  {
   "cell_type": "markdown",
   "metadata": {},
   "source": [
    "### 4.2.5 Euclidean MDM"
   ]
  },
  {
   "cell_type": "code",
   "execution_count": 54,
   "metadata": {},
   "outputs": [
    {
     "name": "stdout",
     "output_type": "stream",
     "text": [
      "mg*s1* [0.9006410256410257, 0.8838709677419355, 0.8511326860841424] 0.8785482264890345\n",
      "mg*s2* [0.8536585365853658, 0.8523076923076923, 0.8061538461538461] 0.8373733583489681\n",
      "rr*s1* [0.8220858895705522, 0.8580246913580247, 0.8111455108359134] 0.8304186972548301\n",
      "rr*s2* [0.852760736196319, 0.8549382716049383, 0.8055555555555556] 0.8377515211189376\n"
     ]
    }
   ],
   "source": [
    "result_intra = hf.record_results_kfold(data_per_exp, result_intra, model=hf.ClosestMean(), kfold=k_fold, key_result='eucl_mdm_covec', key_data='covec')"
   ]
  },
  {
   "cell_type": "code",
   "execution_count": 55,
   "metadata": {},
   "outputs": [
    {
     "name": "stdout",
     "output_type": "stream",
     "text": [
      "mg*s1* [0.8974358974358975, 0.8741935483870967, 0.8576051779935275] 0.8764115412721739\n",
      "mg*s2* [0.850609756097561, 0.8523076923076923, 0.803076923076923] 0.8353314571607253\n",
      "rr*s1* [0.8128834355828221, 0.845679012345679, 0.7987616099071208] 0.8191080192785406\n",
      "rr*s2* [0.8496932515337423, 0.8518518518518519, 0.8117283950617284] 0.8377578328157741\n"
     ]
    }
   ],
   "source": [
    "result_intra = hf.record_results_kfold(data_per_exp, result_intra, model=hf.ClosestMean(), kfold=k_fold, key_result='eucl_mdm_cov', key_data='cov')"
   ]
  },
  {
   "cell_type": "code",
   "execution_count": 56,
   "metadata": {},
   "outputs": [],
   "source": [
    "dic_result.keys()\n",
    "dic_to_save = {key: value for key,value in dic_result.items() if 'model' not in key}"
   ]
  },
  {
   "cell_type": "code",
   "execution_count": 57,
   "metadata": {},
   "outputs": [
    {
     "data": {
      "text/plain": [
       "dict_keys([])"
      ]
     },
     "execution_count": 57,
     "metadata": {},
     "output_type": "execute_result"
    }
   ],
   "source": [
    "dic_to_save.keys()"
   ]
  },
  {
   "cell_type": "code",
   "execution_count": 58,
   "metadata": {},
   "outputs": [],
   "source": [
    "with open('result.pickle', 'wb') as handle:\n",
    "    pickle.dump(dic_to_save, handle)"
   ]
  },
  {
   "cell_type": "markdown",
   "metadata": {},
   "source": [
    "### 4.2.6 Riemannian MDM"
   ]
  },
  {
   "cell_type": "code",
   "execution_count": 59,
   "metadata": {},
   "outputs": [
    {
     "name": "stdout",
     "output_type": "stream",
     "text": [
      "mg*s1* [0.9358974358974359, 0.9032258064516129, 0.883495145631068] 0.9075394626600389\n",
      "mg*s2* [0.9359756097560976, 0.9446153846153846, 0.9353846153846154] 0.9386585365853658\n",
      "rr*s1* [0.9386503067484663, 0.9228395061728395, 0.9256965944272446] 0.9290621357828502\n",
      "rr*s2* [0.9386503067484663, 0.9197530864197531, 0.9104938271604939] 0.9229657401095711\n"
     ]
    }
   ],
   "source": [
    "result_intra = hf.record_results_kfold(data_per_exp, result_intra, model=pyriemann.classification.MDM(), kfold=k_fold, key_result='riemann_mdm_cov', key_data='cov')"
   ]
  },
  {
   "cell_type": "markdown",
   "metadata": {},
   "source": [
    "### 4.2.7 Tangeant Space + Log Reg"
   ]
  },
  {
   "cell_type": "code",
   "execution_count": 60,
   "metadata": {},
   "outputs": [],
   "source": [
    "estimators = []\n",
    "estimators.append(('ts', TangentSpace()))\n",
    "estimators.append(('lr', LogisticRegression(solver='lbfgs', multi_class='multinomial')))\n",
    "pipeline_tang_lr = Pipeline(estimators)"
   ]
  },
  {
   "cell_type": "code",
   "execution_count": 61,
   "metadata": {},
   "outputs": [
    {
     "name": "stdout",
     "output_type": "stream",
     "text": [
      "mg*s1* [0.9871794871794872, 0.9935483870967742, 0.9838187702265372] 0.9881822148342662\n",
      "mg*s2* [0.9786585365853658, 0.9723076923076923, 0.9784615384615385] 0.9764759224515321\n",
      "rr*s1* [0.9938650306748467, 0.9938271604938271, 0.9969040247678018] 0.9948654053121585\n",
      "rr*s2* [0.9846625766871165, 0.9753086419753086, 0.9722222222222222] 0.9773978136282158\n"
     ]
    }
   ],
   "source": [
    "result_intra = hf.record_results_kfold(data_per_exp, result_intra, model=pipeline_tang_lr, kfold=k_fold, key_result='ts_logreg_cov', key_data='cov')"
   ]
  },
  {
   "cell_type": "markdown",
   "metadata": {},
   "source": [
    "### 4.2.8 Tangeant Space + DNN"
   ]
  },
  {
   "cell_type": "code",
   "execution_count": 62,
   "metadata": {},
   "outputs": [],
   "source": [
    "# Function to create model, required for KerasClassifier\n",
    "def create_model_covariance(weights='initial_weights.hd5'):\n",
    "    return create_model(weights=weights, n_features=36)\n",
    "generate_weights = create_model_covariance(weights=None)"
   ]
  },
  {
   "cell_type": "code",
   "execution_count": 63,
   "metadata": {},
   "outputs": [],
   "source": [
    "estimators = []\n",
    "#estimators.append(('standardize', StandardScaler()))\n",
    "estimators.append(('ts', TangentSpace()))\n",
    "estimators.append(('dnn', KerasClassifier(build_fn=create_model_covariance, epochs=100, verbose=0)))\n",
    "pipeline_tang_dnn = Pipeline(estimators)"
   ]
  },
  {
   "cell_type": "code",
   "execution_count": 64,
   "metadata": {},
   "outputs": [
    {
     "name": "stdout",
     "output_type": "stream",
     "text": [
      "mg*s1* [0.9935897435897436, 0.9967741935483871, 0.9902912621359223] 0.9935517330913509\n",
      "mg*s2* [0.9939024390243902, 0.9846153846153847, 0.9907692307692307] 0.9897623514696686\n",
      "rr*s1* [0.9969325153374233, 0.9969135802469136, 0.9876160990712074] 0.993820731551848\n",
      "rr*s2* [0.9938650306748467, 0.9845679012345679, 0.9845679012345679] 0.9876669443813276\n"
     ]
    }
   ],
   "source": [
    "result_intra = hf.record_results_kfold(data_per_exp, result_intra, model=pipeline_tang_dnn, kfold=k_fold, key_result='ts_dnn_cov', key_data='cov')"
   ]
  },
  {
   "cell_type": "markdown",
   "metadata": {},
   "source": [
    "## 4.3 Plotting intra-sessions results"
   ]
  },
  {
   "cell_type": "code",
   "execution_count": 65,
   "metadata": {},
   "outputs": [],
   "source": [
    "acc_vec = np.array([acc_model['acc_all'] for key, acc_model in result_intra.items()]).transpose()\n",
    "model_labels = result_intra.keys()"
   ]
  },
  {
   "cell_type": "code",
   "execution_count": 66,
   "metadata": {},
   "outputs": [
    {
     "data": {
      "image/png": "[encoded data removed]",
      "text/plain": [
       "<Figure size 1440x1080 with 1 Axes>"
      ]
     },
     "metadata": {
      "needs_background": "light"
     },
     "output_type": "display_data"
    }
   ],
   "source": [
    "viz.bar_plot_scatter_comp([acc_vec], model_labels, 'intra-session', ['acc'])"
   ]
  },
  {
   "cell_type": "markdown",
   "metadata": {},
   "source": [
    "We notice that most of the information of the signal seem to be contained in the covariance matrix of the electrodes (and particularly in its diagonal: the variances)"
   ]
  },
  {
   "cell_type": "code",
   "execution_count": 67,
   "metadata": {},
   "outputs": [],
   "source": [
    "acc_var = np.array([acc_model['acc_all'] for key, acc_model in result_intra.items() if 'raw' not in key]).transpose()\n",
    "model_labels = [x for x in result_intra.keys() if 'raw' not in x]"
   ]
  },
  {
   "cell_type": "code",
   "execution_count": 68,
   "metadata": {},
   "outputs": [
    {
     "data": {
      "text/plain": [
       "(0.7, 1.1)"
      ]
     },
     "execution_count": 68,
     "metadata": {},
     "output_type": "execute_result"
    },
    {
     "data": {
      "image/png": "[encoded data removed]",
      "text/plain": [
       "<Figure size 1440x1080 with 1 Axes>"
      ]
     },
     "metadata": {
      "needs_background": "light"
     },
     "output_type": "display_data"
    }
   ],
   "source": [
    "viz.bar_plot_scatter_comp([acc_var], model_labels, 'intra-session', ['acc'])\n",
    "plt.ylim([0.7, 1.1])"
   ]
  },
  {
   "cell_type": "markdown",
   "metadata": {},
   "source": [
    "# 5. Model on Inter-session"
   ]
  },
  {
   "cell_type": "markdown",
   "metadata": {},
   "source": [
    "## 5.1 Euclidean MDM"
   ]
  },
  {
   "cell_type": "code",
   "execution_count": 69,
   "metadata": {},
   "outputs": [],
   "source": [
    "result_intersess = {}"
   ]
  },
  {
   "cell_type": "code",
   "execution_count": 70,
   "metadata": {},
   "outputs": [
    {
     "name": "stdout",
     "output_type": "stream",
     "text": [
      "mg*s1* mg*s2* 0.6462167689161554\n",
      "mg*s2* mg*s1* 0.706766917293233\n",
      "rr*s1* rr*s2* 0.5102669404517454\n",
      "rr*s2* rr*s1* 0.7954779033915724\n",
      "avg: 0.6646821325131766\n"
     ]
    }
   ],
   "source": [
    "result_intersess = hf.train_test_intersession(data_per_exp, result_intersess, hf.ClosestMean(), key_result='eucl_mdm', data_type='cov')"
   ]
  },
  {
   "cell_type": "markdown",
   "metadata": {},
   "source": [
    "## 5.2 Riemann MDM"
   ]
  },
  {
   "cell_type": "code",
   "execution_count": 71,
   "metadata": {},
   "outputs": [
    {
     "name": "stdout",
     "output_type": "stream",
     "text": [
      "mg*s1* mg*s2* 0.6339468302658486\n",
      "mg*s2* mg*s1* 0.44575725026852847\n",
      "rr*s1* rr*s2* 0.6837782340862423\n",
      "rr*s2* rr*s1* 0.7841726618705036\n",
      "avg: 0.6369137441227808\n"
     ]
    }
   ],
   "source": [
    "result_intersess = hf.train_test_intersession(data_per_exp, result_intersess, pyriemann.classification.MDM(), key_result='riemann_mdm', data_type='cov')"
   ]
  },
  {
   "cell_type": "markdown",
   "metadata": {},
   "source": [
    "## 5.3 Log Reg on cov"
   ]
  },
  {
   "cell_type": "code",
   "execution_count": 72,
   "metadata": {},
   "outputs": [
    {
     "name": "stdout",
     "output_type": "stream",
     "text": [
      "mg*s1* mg*s2* 0.7157464212678937\n"
     ]
    },
    {
     "name": "stderr",
     "output_type": "stream",
     "text": [
      "/home/marius/miniconda3/envs/stats/lib/python3.7/site-packages/sklearn/linear_model/logistic.py:758: ConvergenceWarning: lbfgs failed to converge. Increase the number of iterations.\n",
      "  \"of iterations.\", ConvergenceWarning)\n",
      "/home/marius/miniconda3/envs/stats/lib/python3.7/site-packages/sklearn/linear_model/logistic.py:758: ConvergenceWarning: lbfgs failed to converge. Increase the number of iterations.\n",
      "  \"of iterations.\", ConvergenceWarning)\n"
     ]
    },
    {
     "name": "stdout",
     "output_type": "stream",
     "text": [
      "mg*s2* mg*s1* 0.4189044038668099\n",
      "rr*s1* rr*s2* 0.7053388090349076\n",
      "rr*s2* rr*s1* 0.7821171634121274\n",
      "avg: 0.6555266993954346\n"
     ]
    },
    {
     "name": "stderr",
     "output_type": "stream",
     "text": [
      "/home/marius/miniconda3/envs/stats/lib/python3.7/site-packages/sklearn/linear_model/logistic.py:758: ConvergenceWarning: lbfgs failed to converge. Increase the number of iterations.\n",
      "  \"of iterations.\", ConvergenceWarning)\n",
      "/home/marius/miniconda3/envs/stats/lib/python3.7/site-packages/sklearn/linear_model/logistic.py:758: ConvergenceWarning: lbfgs failed to converge. Increase the number of iterations.\n",
      "  \"of iterations.\", ConvergenceWarning)\n"
     ]
    }
   ],
   "source": [
    "result_intersess = hf.train_test_intersession(data_per_exp, result_intersess, LogisticRegression(solver='lbfgs', multi_class='multinomial'), key_result='logrec_covec', data_type='covec')"
   ]
  },
  {
   "cell_type": "markdown",
   "metadata": {},
   "source": [
    "## 5.4 Tangeant + Log Reg"
   ]
  },
  {
   "cell_type": "code",
   "execution_count": 73,
   "metadata": {},
   "outputs": [],
   "source": [
    "estimators = []\n",
    "#estimators.append(('standardize', StandardScaler()))\n",
    "estimators.append(('ts', TangentSpace()))\n",
    "estimators.append(('lr', LogisticRegression(solver='lbfgs', multi_class='multinomial')))\n",
    "pipeline_tang_lr = Pipeline(estimators)"
   ]
  },
  {
   "cell_type": "code",
   "execution_count": 74,
   "metadata": {},
   "outputs": [
    {
     "name": "stdout",
     "output_type": "stream",
     "text": [
      "mg*s1* mg*s2* 0.7310838445807771\n",
      "mg*s2* mg*s1* 0.5875402792696026\n",
      "rr*s1* rr*s2* 0.6930184804928131\n",
      "rr*s2* rr*s1* 0.9044193216855088\n",
      "avg: 0.7290154815071754\n"
     ]
    }
   ],
   "source": [
    "result_intersess = hf.train_test_intersession(data_per_exp, result_intersess, pipeline_tang_lr, key_result='ts_logrec_cov', data_type='cov')"
   ]
  },
  {
   "cell_type": "markdown",
   "metadata": {},
   "source": [
    "## 5.5 DNN on Cov"
   ]
  },
  {
   "cell_type": "code",
   "execution_count": 75,
   "metadata": {},
   "outputs": [],
   "source": [
    "# Function to create model, required for KerasClassifier\n",
    "def create_model_covariance(weights='initial_weights.hd5'):\n",
    "    return create_model(weights=weights, n_features=36)\n",
    "generate_weights = create_model_covariance(weights=None)"
   ]
  },
  {
   "cell_type": "code",
   "execution_count": 76,
   "metadata": {},
   "outputs": [],
   "source": [
    "estimators = []\n",
    "#estimators.append(('standardize', StandardScaler()))\n",
    "estimators.append(('ts', TangentSpace()))\n",
    "estimators.append(('dnn', KerasClassifier(build_fn=create_model_covariance, epochs=100, verbose=0)))\n",
    "pipeline_tang_dnn = Pipeline(estimators)"
   ]
  },
  {
   "cell_type": "code",
   "execution_count": 77,
   "metadata": {},
   "outputs": [
    {
     "name": "stdout",
     "output_type": "stream",
     "text": [
      "mg*s1* mg*s2* 0.7689161554192229\n",
      "mg*s2* mg*s1* 0.5048335123523093\n",
      "rr*s1* rr*s2* 0.6940451745379876\n",
      "rr*s2* rr*s1* 0.9188078108941419\n",
      "avg: 0.7216506633009154\n"
     ]
    }
   ],
   "source": [
    "result_intersess = hf.train_test_intersession(data_per_exp, result_intersess, pipeline_tang_dnn, key_result='ts_dnn_cov', data_type='cov')"
   ]
  },
  {
   "cell_type": "markdown",
   "metadata": {},
   "source": [
    "## 5.6 Tangeant + DNN"
   ]
  },
  {
   "cell_type": "code",
   "execution_count": 78,
   "metadata": {},
   "outputs": [],
   "source": [
    "# Function to create model, required for KerasClassifier\n",
    "def create_model_covariance(weights='initial_weights.hd5'):\n",
    "    return create_model(weights=weights, n_features=36)\n",
    "generate_weights = create_model_covariance(weights=None)"
   ]
  },
  {
   "cell_type": "code",
   "execution_count": 79,
   "metadata": {},
   "outputs": [
    {
     "name": "stdout",
     "output_type": "stream",
     "text": [
      "mg*s1* mg*s2* 0.689161554192229\n",
      "mg*s2* mg*s1* 0.6852846401718582\n",
      "rr*s1* rr*s2* 0.6858316221765913\n",
      "rr*s2* rr*s1* 0.8663926002055499\n",
      "avg: 0.7316676041865572\n"
     ]
    }
   ],
   "source": [
    "result_intersess = hf.train_test_intersession(data_per_exp, result_intersess, KerasClassifier(build_fn=create_model_covariance, epochs=100, verbose=0), key_result='dnn_covec', data_type='covec')"
   ]
  },
  {
   "cell_type": "markdown",
   "metadata": {},
   "source": [
    "Seems that the Log Reg (with eventually a projection on the Tangeant Space) is the best algorithm so far for inter-session accuracy"
   ]
  },
  {
   "cell_type": "code",
   "execution_count": 80,
   "metadata": {},
   "outputs": [],
   "source": [
    "acc_inter = np.array([list(model['acc'].values()) for key, model in result_intersess.items()]).transpose()[0]\n",
    "model_labels = [x for x in result_intersess.keys()]"
   ]
  },
  {
   "cell_type": "code",
   "execution_count": 81,
   "metadata": {},
   "outputs": [
    {
     "data": {
      "image/png": "[encoded data removed]",
      "text/plain": [
       "<Figure size 1440x1080 with 1 Axes>"
      ]
     },
     "metadata": {
      "needs_background": "light"
     },
     "output_type": "display_data"
    }
   ],
   "source": [
    "viz.bar_plot_scatter_comp([acc_inter], model_labels, 'inter-session', ['acc'])\n",
    "#plt.ylim([0.7, 1.1])"
   ]
  },
  {
   "cell_type": "markdown",
   "metadata": {},
   "source": [
    "# 6. Model on Inter-subjects"
   ]
  },
  {
   "cell_type": "code",
   "execution_count": 82,
   "metadata": {},
   "outputs": [],
   "source": [
    "result_subj = {}"
   ]
  },
  {
   "cell_type": "markdown",
   "metadata": {},
   "source": [
    "## 6.1 Euclidean MDM"
   ]
  },
  {
   "cell_type": "code",
   "execution_count": 83,
   "metadata": {},
   "outputs": [
    {
     "ename": "NameError",
     "evalue": "name 'hf' is not defined",
     "output_type": "error",
     "traceback": [
      "\u001b[0;31m---------------------------------------------------------------------------\u001b[0m",
      "\u001b[0;31mNameError\u001b[0m                                 Traceback (most recent call last)",
      "\u001b[0;32m<ipython-input-83-7d7bdb3d876c>\u001b[0m in \u001b[0;36m<module>\u001b[0;34m\u001b[0m\n\u001b[0;32m----> 1\u001b[0;31m \u001b[0mresult_subj\u001b[0m \u001b[0;34m=\u001b[0m \u001b[0mhf\u001b[0m\u001b[0;34m.\u001b[0m\u001b[0mtrain_test_intersubjects\u001b[0m\u001b[0;34m(\u001b[0m\u001b[0mdata_per_exp\u001b[0m\u001b[0;34m,\u001b[0m \u001b[0mresult_subj\u001b[0m\u001b[0;34m,\u001b[0m \u001b[0mhf\u001b[0m\u001b[0;34m.\u001b[0m\u001b[0mClosestMean\u001b[0m\u001b[0;34m(\u001b[0m\u001b[0;34m)\u001b[0m\u001b[0;34m,\u001b[0m \u001b[0mkey_result\u001b[0m\u001b[0;34m=\u001b[0m\u001b[0;34m'mdm_eucl'\u001b[0m\u001b[0;34m)\u001b[0m\u001b[0;34m\u001b[0m\u001b[0;34m\u001b[0m\u001b[0m\n\u001b[0m",
      "\u001b[0;32m~/proj/somOS/emg_sign_recognition/helper_function.py\u001b[0m in \u001b[0;36mtrain_test_intersubjects\u001b[0;34m(data_dic, dic_result, model, key_result, data_type)\u001b[0m\n\u001b[1;32m    137\u001b[0m             \u001b[0my_test\u001b[0m \u001b[0;34m=\u001b[0m \u001b[0mdata_test\u001b[0m\u001b[0;34m[\u001b[0m\u001b[0;34m'labels'\u001b[0m\u001b[0;34m]\u001b[0m\u001b[0;34m\u001b[0m\u001b[0;34m\u001b[0m\u001b[0m\n\u001b[1;32m    138\u001b[0m             \u001b[0myest_test\u001b[0m \u001b[0;34m=\u001b[0m \u001b[0mmodel\u001b[0m\u001b[0;34m.\u001b[0m\u001b[0mpredict\u001b[0m\u001b[0;34m(\u001b[0m\u001b[0mX_test\u001b[0m\u001b[0;34m)\u001b[0m\u001b[0;34m\u001b[0m\u001b[0;34m\u001b[0m\u001b[0m\n\u001b[0;32m--> 139\u001b[0;31m             \u001b[0mscore\u001b[0m \u001b[0;34m=\u001b[0m \u001b[0mhf\u001b[0m\u001b[0;34m.\u001b[0m\u001b[0maccuracy\u001b[0m\u001b[0;34m(\u001b[0m\u001b[0myest_test\u001b[0m\u001b[0;34m,\u001b[0m \u001b[0my_test\u001b[0m\u001b[0;34m)\u001b[0m\u001b[0;34m\u001b[0m\u001b[0;34m\u001b[0m\u001b[0m\n\u001b[0m\u001b[1;32m    140\u001b[0m             \u001b[0mprint\u001b[0m\u001b[0;34m(\u001b[0m\u001b[0mtrain_key\u001b[0m\u001b[0;34m,\u001b[0m \u001b[0mtest_key\u001b[0m\u001b[0;34m,\u001b[0m \u001b[0mscore\u001b[0m\u001b[0;34m)\u001b[0m\u001b[0;34m\u001b[0m\u001b[0;34m\u001b[0m\u001b[0m\n\u001b[1;32m    141\u001b[0m             \u001b[0mdic_result\u001b[0m\u001b[0;34m[\u001b[0m\u001b[0mkey_result\u001b[0m\u001b[0;34m]\u001b[0m\u001b[0;34m.\u001b[0m\u001b[0msetdefault\u001b[0m\u001b[0;34m(\u001b[0m\u001b[0;34m'acc'\u001b[0m\u001b[0;34m,\u001b[0m \u001b[0;34m[\u001b[0m\u001b[0;34m]\u001b[0m\u001b[0;34m)\u001b[0m\u001b[0;34m.\u001b[0m\u001b[0mappend\u001b[0m\u001b[0;34m(\u001b[0m\u001b[0mscore\u001b[0m\u001b[0;34m)\u001b[0m\u001b[0;34m\u001b[0m\u001b[0;34m\u001b[0m\u001b[0m\n",
      "\u001b[0;31mNameError\u001b[0m: name 'hf' is not defined"
     ]
    }
   ],
   "source": [
    "result_subj = hf.train_test_intersubjects(data_per_exp, result_subj, hf.ClosestMean(), key_result='mdm_eucl')"
   ]
  },
  {
   "cell_type": "markdown",
   "metadata": {},
   "source": [
    "## 6.2 Riemann MDM"
   ]
  },
  {
   "cell_type": "code",
   "execution_count": null,
   "metadata": {},
   "outputs": [],
   "source": [
    "result_subj = hf.train_test_intersubjects(data_per_exp, result_subj, pyriemann.classification.MDM(), key_result='mdm_riemann')"
   ]
  },
  {
   "cell_type": "markdown",
   "metadata": {},
   "source": [
    "## 6.3 Log Reg on cov"
   ]
  },
  {
   "cell_type": "code",
   "execution_count": null,
   "metadata": {},
   "outputs": [],
   "source": [
    "result_subj = hf.train_test_intersubjects(data_per_exp, result_subj, LogisticRegression(solver='lbfgs', multi_class='multinomial'), key_result='log_covec', data_type='covec')"
   ]
  },
  {
   "cell_type": "markdown",
   "metadata": {},
   "source": [
    "## 6.4 Tangeant + Log Reg"
   ]
  },
  {
   "cell_type": "code",
   "execution_count": null,
   "metadata": {},
   "outputs": [],
   "source": [
    "estimators = []\n",
    "estimators.append(('ts', TangentSpace()))\n",
    "estimators.append(('lr', LogisticRegression(solver='lbfgs', multi_class='multinomial')))\n",
    "pipeline_tang_lr = Pipeline(estimators)"
   ]
  },
  {
   "cell_type": "code",
   "execution_count": null,
   "metadata": {},
   "outputs": [],
   "source": [
    "result_subj = hf.train_test_intersubjects(data_per_exp, result_subj, pipeline_tang_lr, key_result='ts_log')"
   ]
  },
  {
   "cell_type": "markdown",
   "metadata": {},
   "source": [
    "## 6.5 DNN on Cov"
   ]
  },
  {
   "cell_type": "code",
   "execution_count": null,
   "metadata": {},
   "outputs": [],
   "source": [
    "# Function to create model, required for KerasClassifier\n",
    "def create_model(weights='initial_weights.hd5'):\n",
    "    # Create model.\n",
    "    model = tf.keras.models.Sequential([\n",
    "    tf.keras.layers.Dense(34, activation='relu', input_shape=(36,)),\n",
    "    tf.keras.layers.Dense(17, activation='relu'),\n",
    "    tf.keras.layers.Dropout(0.2),\n",
    "    tf.keras.layers.Dense(4, activation='softmax'),\n",
    "])\n",
    "    # Compile model\n",
    "    model.compile(loss = 'sparse_categorical_crossentropy', optimizer='rmsprop', metrics=['accuracy'])\n",
    "    if weights is None:\n",
    "        model.save_weights('initial_weights.hd5')\n",
    "    else:\n",
    "        model.load_weights(weights)\n",
    "    return model"
   ]
  },
  {
   "cell_type": "code",
   "execution_count": null,
   "metadata": {},
   "outputs": [],
   "source": [
    "generate_weights = create_model(weights=None)"
   ]
  },
  {
   "cell_type": "code",
   "execution_count": null,
   "metadata": {},
   "outputs": [],
   "source": [
    "result_subj = hf.train_test_intersubjects(data_per_exp, result_subj, KerasClassifier(build_fn=create_model, epochs=100, verbose=0), key_result='dnn_covec', data_type='covec')"
   ]
  },
  {
   "cell_type": "markdown",
   "metadata": {},
   "source": [
    "## 6.6 Tangeant + DNN"
   ]
  },
  {
   "cell_type": "code",
   "execution_count": null,
   "metadata": {},
   "outputs": [],
   "source": [
    "estimators = []\n",
    "#estimators.append(('standardize', StandardScaler()))\n",
    "estimators.append(('ts', TangentSpace()))\n",
    "estimators.append(('dnn', KerasClassifier(build_fn=create_model, epochs=100, verbose=0)))\n",
    "pipeline_tang_dnn = Pipeline(estimators)"
   ]
  },
  {
   "cell_type": "code",
   "execution_count": null,
   "metadata": {},
   "outputs": [],
   "source": [
    "result_subj = hf.train_test_intersubjects(data_per_exp, result_subj, pipeline_tang_dnn, key_result='ts_dnn')"
   ]
  },
  {
   "cell_type": "markdown",
   "metadata": {},
   "source": [
    "# Plotting"
   ]
  },
  {
   "cell_type": "code",
   "execution_count": null,
   "metadata": {},
   "outputs": [],
   "source": [
    "acc_subj = np.array([model['acc'] for key, model in result_subj.items()]).transpose()\n",
    "model_labels = [x for x in result_subj.keys()]"
   ]
  },
  {
   "cell_type": "code",
   "execution_count": null,
   "metadata": {},
   "outputs": [],
   "source": [
    "viz.bar_plot_scatter_comp([acc_subj], model_labels, 'inter-subj', ['acc'])"
   ]
  },
  {
   "cell_type": "code",
   "execution_count": null,
   "metadata": {},
   "outputs": [],
   "source": [
    "b = time.time()\n",
    "print(b - a)"
   ]
  }
 ],
 "metadata": {
  "kernelspec": {
   "display_name": "Python 3",
   "language": "python",
   "name": "python3"
  },
  "language_info": {
   "codemirror_mode": {
    "name": "ipython",
    "version": 3
   },
   "file_extension": ".py",
   "mimetype": "text/x-python",
   "name": "python",
   "nbconvert_exporter": "python",
   "pygments_lexer": "ipython3",
   "version": "3.7.2"
  }
 },
 "nbformat": 4,
 "nbformat_minor": 4
}
